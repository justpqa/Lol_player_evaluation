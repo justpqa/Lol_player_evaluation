{
  "nbformat": 4,
  "nbformat_minor": 0,
  "metadata": {
    "colab": {
      "name": "Lol_performance_evaluation.ipynb",
      "provenance": [],
      "collapsed_sections": [],
      "mount_file_id": "1G66dlaDPvkF3jryJ7V0xVS0w8XnWku4Y",
      "authorship_tag": "ABX9TyPZdnenDqeMbDHHEURlZYx0",
      "include_colab_link": true
    },
    "kernelspec": {
      "name": "python3",
      "display_name": "Python 3"
    },
    "language_info": {
      "name": "python"
    }
  },
  "cells": [
    {
      "cell_type": "markdown",
      "metadata": {
        "id": "view-in-github",
        "colab_type": "text"
      },
      "source": [
        "<a href=\"https://colab.research.google.com/github/justpqa/Lol_player_evaluation/blob/main/Lol_performance_evaluation.ipynb\" target=\"_parent\"><img src=\"https://colab.research.google.com/assets/colab-badge.svg\" alt=\"Open In Colab\"/></a>"
      ]
    },
    {
      "cell_type": "markdown",
      "source": [
        "#### Do personal performance affect the result of LOL games"
      ],
      "metadata": {
        "id": "eV8GDnCX3ZKK"
      }
    },
    {
      "cell_type": "markdown",
      "source": [
        "League of Legends (or LOL) has been (arguably) the most popular MOBA games in the world. As a 5v5 games, for most people, an individual player cannot affect how the result of the game would be, while for others, a player can decide his/her own result by their own performance. To (somewhat) uncover this mystery, I have analyzed a dataset in Kaggle (https://www.kaggle.com/datasets/jasperan/league-of-legends-1v1-matchups-results) of more than 1 millions LOL individual performances, as well as using different ML models to answer our question \"Can we predict the result of the game based on individual performance?.\""
      ],
      "metadata": {
        "id": "6EE4QIAs3n5_"
      }
    },
    {
      "cell_type": "markdown",
      "source": [
        "#### 1. Importing required packages for manipulating and visualizing our data"
      ],
      "metadata": {
        "id": "voGNrr9m5Vh5"
      }
    },
    {
      "cell_type": "code",
      "source": [
        "#Packages for manipulating the data\n",
        "import numpy as np\n",
        "import pandas as pd"
      ],
      "metadata": {
        "id": "A0OIoDWC5dkA"
      },
      "execution_count": null,
      "outputs": []
    },
    {
      "cell_type": "code",
      "source": [
        "#packages for visualization\n",
        "import matplotlib.pyplot as plt\n",
        "import seaborn as sns\n",
        "%matplotlib inline"
      ],
      "metadata": {
        "id": "2_TjlNkK5k-8"
      },
      "execution_count": null,
      "outputs": []
    },
    {
      "cell_type": "markdown",
      "source": [
        "#### 2. Import our dataset"
      ],
      "metadata": {
        "id": "MAbO5Flu5zRS"
      }
    },
    {
      "cell_type": "code",
      "source": [
        "lol = pd.read_csv('/content/drive/MyDrive/matchups.csv')"
      ],
      "metadata": {
        "id": "CgwrGAby5-ZI"
      },
      "execution_count": null,
      "outputs": []
    },
    {
      "cell_type": "code",
      "source": [
        "#Check the head of our dataset\n",
        "lol.head()"
      ],
      "metadata": {
        "colab": {
          "base_uri": "https://localhost:8080/",
          "height": 305
        },
        "id": "1-3XkW746Dii",
        "outputId": "1e5c1651-871e-4e57-bee3-bae4153b74f6"
      },
      "execution_count": null,
      "outputs": [
        {
          "output_type": "execute_result",
          "data": {
            "text/plain": [
              "              P_MATCH_ID  GOLDEARNED  TOTALMINIONSKILLED    WIN  KILLS  \\\n",
              "0     TR1_1201957752_top       14425                 194  False     14   \n",
              "1     TR1_1201957752_top       12920                 177   True      3   \n",
              "2  TR1_1201957752_middle       13483                 221  False      7   \n",
              "3  TR1_1201957752_middle       11375                 167   True      4   \n",
              "4  TR1_1201957752_bottom       11320                 197  False      5   \n",
              "\n",
              "   ASSISTS  DEATHS  CHAMPION  VISIONSCORE  \\\n",
              "0        5       7  Kassadin           17   \n",
              "1       13       6     Fiora           17   \n",
              "2        3       6      Yone           20   \n",
              "3       15       7     Corki           27   \n",
              "4       10      12     Kaisa           17   \n",
              "\n",
              "                                               PUUID  \\\n",
              "0  phduyQLB8gBjUerFwiVOtyLLHE9jxw7Jq7dwab_CtRddAv...   \n",
              "1  SgQ5hm74vmXVDB3GIt3ka7gaBXFpNnT3PbHU8TbjEk5PJ8...   \n",
              "2  m7Sxq9HxRKLIgf0n0QOKhfHq8jNMZ-k1VhW_jcb307sUya...   \n",
              "3  pa-g2VGIEJn7CJCYYQU1PaHUqjS9pB7M4PsDcjM3ac5ysM...   \n",
              "4  _WeC06P4yIMW7ZMWi6bmwCagXp7c7bxxGv6nNW4--SGqXp...   \n",
              "\n",
              "   TOTALDAMAGEDEALTTOCHAMPIONS  SUMMONERNAME     GAMEVERSION  Unnamed: 13  \n",
              "0                        33426         Borke  11.14.384.6677          NaN  \n",
              "1                        12092    Nora Durst  11.14.384.6677          NaN  \n",
              "2                        20604  Fightêr Yone  11.14.384.6677          NaN  \n",
              "3                        30150   AM SORİİ HE  11.14.384.6677          NaN  \n",
              "4                        16689  º J İ N X º   11.14.384.6677          NaN  "
            ],
            "text/html": [
              "\n",
              "  <div id=\"df-6a4573a0-8104-4ffd-b3cd-12d6fa113244\">\n",
              "    <div class=\"colab-df-container\">\n",
              "      <div>\n",
              "<style scoped>\n",
              "    .dataframe tbody tr th:only-of-type {\n",
              "        vertical-align: middle;\n",
              "    }\n",
              "\n",
              "    .dataframe tbody tr th {\n",
              "        vertical-align: top;\n",
              "    }\n",
              "\n",
              "    .dataframe thead th {\n",
              "        text-align: right;\n",
              "    }\n",
              "</style>\n",
              "<table border=\"1\" class=\"dataframe\">\n",
              "  <thead>\n",
              "    <tr style=\"text-align: right;\">\n",
              "      <th></th>\n",
              "      <th>P_MATCH_ID</th>\n",
              "      <th>GOLDEARNED</th>\n",
              "      <th>TOTALMINIONSKILLED</th>\n",
              "      <th>WIN</th>\n",
              "      <th>KILLS</th>\n",
              "      <th>ASSISTS</th>\n",
              "      <th>DEATHS</th>\n",
              "      <th>CHAMPION</th>\n",
              "      <th>VISIONSCORE</th>\n",
              "      <th>PUUID</th>\n",
              "      <th>TOTALDAMAGEDEALTTOCHAMPIONS</th>\n",
              "      <th>SUMMONERNAME</th>\n",
              "      <th>GAMEVERSION</th>\n",
              "      <th>Unnamed: 13</th>\n",
              "    </tr>\n",
              "  </thead>\n",
              "  <tbody>\n",
              "    <tr>\n",
              "      <th>0</th>\n",
              "      <td>TR1_1201957752_top</td>\n",
              "      <td>14425</td>\n",
              "      <td>194</td>\n",
              "      <td>False</td>\n",
              "      <td>14</td>\n",
              "      <td>5</td>\n",
              "      <td>7</td>\n",
              "      <td>Kassadin</td>\n",
              "      <td>17</td>\n",
              "      <td>phduyQLB8gBjUerFwiVOtyLLHE9jxw7Jq7dwab_CtRddAv...</td>\n",
              "      <td>33426</td>\n",
              "      <td>Borke</td>\n",
              "      <td>11.14.384.6677</td>\n",
              "      <td>NaN</td>\n",
              "    </tr>\n",
              "    <tr>\n",
              "      <th>1</th>\n",
              "      <td>TR1_1201957752_top</td>\n",
              "      <td>12920</td>\n",
              "      <td>177</td>\n",
              "      <td>True</td>\n",
              "      <td>3</td>\n",
              "      <td>13</td>\n",
              "      <td>6</td>\n",
              "      <td>Fiora</td>\n",
              "      <td>17</td>\n",
              "      <td>SgQ5hm74vmXVDB3GIt3ka7gaBXFpNnT3PbHU8TbjEk5PJ8...</td>\n",
              "      <td>12092</td>\n",
              "      <td>Nora Durst</td>\n",
              "      <td>11.14.384.6677</td>\n",
              "      <td>NaN</td>\n",
              "    </tr>\n",
              "    <tr>\n",
              "      <th>2</th>\n",
              "      <td>TR1_1201957752_middle</td>\n",
              "      <td>13483</td>\n",
              "      <td>221</td>\n",
              "      <td>False</td>\n",
              "      <td>7</td>\n",
              "      <td>3</td>\n",
              "      <td>6</td>\n",
              "      <td>Yone</td>\n",
              "      <td>20</td>\n",
              "      <td>m7Sxq9HxRKLIgf0n0QOKhfHq8jNMZ-k1VhW_jcb307sUya...</td>\n",
              "      <td>20604</td>\n",
              "      <td>Fightêr Yone</td>\n",
              "      <td>11.14.384.6677</td>\n",
              "      <td>NaN</td>\n",
              "    </tr>\n",
              "    <tr>\n",
              "      <th>3</th>\n",
              "      <td>TR1_1201957752_middle</td>\n",
              "      <td>11375</td>\n",
              "      <td>167</td>\n",
              "      <td>True</td>\n",
              "      <td>4</td>\n",
              "      <td>15</td>\n",
              "      <td>7</td>\n",
              "      <td>Corki</td>\n",
              "      <td>27</td>\n",
              "      <td>pa-g2VGIEJn7CJCYYQU1PaHUqjS9pB7M4PsDcjM3ac5ysM...</td>\n",
              "      <td>30150</td>\n",
              "      <td>AM SORİİ HE</td>\n",
              "      <td>11.14.384.6677</td>\n",
              "      <td>NaN</td>\n",
              "    </tr>\n",
              "    <tr>\n",
              "      <th>4</th>\n",
              "      <td>TR1_1201957752_bottom</td>\n",
              "      <td>11320</td>\n",
              "      <td>197</td>\n",
              "      <td>False</td>\n",
              "      <td>5</td>\n",
              "      <td>10</td>\n",
              "      <td>12</td>\n",
              "      <td>Kaisa</td>\n",
              "      <td>17</td>\n",
              "      <td>_WeC06P4yIMW7ZMWi6bmwCagXp7c7bxxGv6nNW4--SGqXp...</td>\n",
              "      <td>16689</td>\n",
              "      <td>º J İ N X º</td>\n",
              "      <td>11.14.384.6677</td>\n",
              "      <td>NaN</td>\n",
              "    </tr>\n",
              "  </tbody>\n",
              "</table>\n",
              "</div>\n",
              "      <button class=\"colab-df-convert\" onclick=\"convertToInteractive('df-6a4573a0-8104-4ffd-b3cd-12d6fa113244')\"\n",
              "              title=\"Convert this dataframe to an interactive table.\"\n",
              "              style=\"display:none;\">\n",
              "        \n",
              "  <svg xmlns=\"http://www.w3.org/2000/svg\" height=\"24px\"viewBox=\"0 0 24 24\"\n",
              "       width=\"24px\">\n",
              "    <path d=\"M0 0h24v24H0V0z\" fill=\"none\"/>\n",
              "    <path d=\"M18.56 5.44l.94 2.06.94-2.06 2.06-.94-2.06-.94-.94-2.06-.94 2.06-2.06.94zm-11 1L8.5 8.5l.94-2.06 2.06-.94-2.06-.94L8.5 2.5l-.94 2.06-2.06.94zm10 10l.94 2.06.94-2.06 2.06-.94-2.06-.94-.94-2.06-.94 2.06-2.06.94z\"/><path d=\"M17.41 7.96l-1.37-1.37c-.4-.4-.92-.59-1.43-.59-.52 0-1.04.2-1.43.59L10.3 9.45l-7.72 7.72c-.78.78-.78 2.05 0 2.83L4 21.41c.39.39.9.59 1.41.59.51 0 1.02-.2 1.41-.59l7.78-7.78 2.81-2.81c.8-.78.8-2.07 0-2.86zM5.41 20L4 18.59l7.72-7.72 1.47 1.35L5.41 20z\"/>\n",
              "  </svg>\n",
              "      </button>\n",
              "      \n",
              "  <style>\n",
              "    .colab-df-container {\n",
              "      display:flex;\n",
              "      flex-wrap:wrap;\n",
              "      gap: 12px;\n",
              "    }\n",
              "\n",
              "    .colab-df-convert {\n",
              "      background-color: #E8F0FE;\n",
              "      border: none;\n",
              "      border-radius: 50%;\n",
              "      cursor: pointer;\n",
              "      display: none;\n",
              "      fill: #1967D2;\n",
              "      height: 32px;\n",
              "      padding: 0 0 0 0;\n",
              "      width: 32px;\n",
              "    }\n",
              "\n",
              "    .colab-df-convert:hover {\n",
              "      background-color: #E2EBFA;\n",
              "      box-shadow: 0px 1px 2px rgba(60, 64, 67, 0.3), 0px 1px 3px 1px rgba(60, 64, 67, 0.15);\n",
              "      fill: #174EA6;\n",
              "    }\n",
              "\n",
              "    [theme=dark] .colab-df-convert {\n",
              "      background-color: #3B4455;\n",
              "      fill: #D2E3FC;\n",
              "    }\n",
              "\n",
              "    [theme=dark] .colab-df-convert:hover {\n",
              "      background-color: #434B5C;\n",
              "      box-shadow: 0px 1px 3px 1px rgba(0, 0, 0, 0.15);\n",
              "      filter: drop-shadow(0px 1px 2px rgba(0, 0, 0, 0.3));\n",
              "      fill: #FFFFFF;\n",
              "    }\n",
              "  </style>\n",
              "\n",
              "      <script>\n",
              "        const buttonEl =\n",
              "          document.querySelector('#df-6a4573a0-8104-4ffd-b3cd-12d6fa113244 button.colab-df-convert');\n",
              "        buttonEl.style.display =\n",
              "          google.colab.kernel.accessAllowed ? 'block' : 'none';\n",
              "\n",
              "        async function convertToInteractive(key) {\n",
              "          const element = document.querySelector('#df-6a4573a0-8104-4ffd-b3cd-12d6fa113244');\n",
              "          const dataTable =\n",
              "            await google.colab.kernel.invokeFunction('convertToInteractive',\n",
              "                                                     [key], {});\n",
              "          if (!dataTable) return;\n",
              "\n",
              "          const docLinkHtml = 'Like what you see? Visit the ' +\n",
              "            '<a target=\"_blank\" href=https://colab.research.google.com/notebooks/data_table.ipynb>data table notebook</a>'\n",
              "            + ' to learn more about interactive tables.';\n",
              "          element.innerHTML = '';\n",
              "          dataTable['output_type'] = 'display_data';\n",
              "          await google.colab.output.renderOutput(dataTable, element);\n",
              "          const docLink = document.createElement('div');\n",
              "          docLink.innerHTML = docLinkHtml;\n",
              "          element.appendChild(docLink);\n",
              "        }\n",
              "      </script>\n",
              "    </div>\n",
              "  </div>\n",
              "  "
            ]
          },
          "metadata": {},
          "execution_count": 7
        }
      ]
    },
    {
      "cell_type": "code",
      "source": [
        "#check the information of our dataset\n",
        "lol.info()\n",
        "#This table can imply that this is a quite full dataset, having nearly no NAs (NAs are on SUMMONERNAME, which we would not care about much in the scope of this notebook)"
      ],
      "metadata": {
        "colab": {
          "base_uri": "https://localhost:8080/"
        },
        "id": "bQAT6GRf6HVe",
        "outputId": "08414800-82f7-4945-ab4a-1ac6708aa7e2"
      },
      "execution_count": null,
      "outputs": [
        {
          "output_type": "stream",
          "name": "stdout",
          "text": [
            "<class 'pandas.core.frame.DataFrame'>\n",
            "RangeIndex: 1312252 entries, 0 to 1312251\n",
            "Data columns (total 14 columns):\n",
            " #   Column                       Non-Null Count    Dtype  \n",
            "---  ------                       --------------    -----  \n",
            " 0   P_MATCH_ID                   1312252 non-null  object \n",
            " 1   GOLDEARNED                   1312252 non-null  int64  \n",
            " 2   TOTALMINIONSKILLED           1312252 non-null  int64  \n",
            " 3   WIN                          1312252 non-null  bool   \n",
            " 4   KILLS                        1312252 non-null  int64  \n",
            " 5   ASSISTS                      1312252 non-null  int64  \n",
            " 6   DEATHS                       1312252 non-null  int64  \n",
            " 7   CHAMPION                     1312252 non-null  object \n",
            " 8   VISIONSCORE                  1312252 non-null  int64  \n",
            " 9   PUUID                        1312252 non-null  object \n",
            " 10  TOTALDAMAGEDEALTTOCHAMPIONS  1312252 non-null  int64  \n",
            " 11  SUMMONERNAME                 1312249 non-null  object \n",
            " 12  GAMEVERSION                  1312252 non-null  object \n",
            " 13  Unnamed: 13                  0 non-null        float64\n",
            "dtypes: bool(1), float64(1), int64(7), object(5)\n",
            "memory usage: 131.4+ MB\n"
          ]
        }
      ]
    },
    {
      "cell_type": "code",
      "source": [
        "#what features are in the dataset\n",
        "print(lol.columns.values)"
      ],
      "metadata": {
        "colab": {
          "base_uri": "https://localhost:8080/"
        },
        "id": "2vStu9Kq6iBS",
        "outputId": "5a3abd4f-9124-4f11-f71c-3bc17380b290"
      },
      "execution_count": null,
      "outputs": [
        {
          "output_type": "stream",
          "name": "stdout",
          "text": [
            "['P_MATCH_ID' 'GOLDEARNED' 'TOTALMINIONSKILLED' 'WIN' 'KILLS' 'ASSISTS'\n",
            " 'DEATHS' 'CHAMPION' 'VISIONSCORE' 'PUUID' 'TOTALDAMAGEDEALTTOCHAMPIONS'\n",
            " 'SUMMONERNAME' 'GAMEVERSION' 'Unnamed: 13']\n"
          ]
        }
      ]
    },
    {
      "cell_type": "markdown",
      "source": [
        "#### 3. Wrangle our data"
      ],
      "metadata": {
        "id": "GK-vO6Lh6u5j"
      }
    },
    {
      "cell_type": "markdown",
      "source": [
        "The column \"Unnammed: 13\" is a blank column, so we drop this column first."
      ],
      "metadata": {
        "id": "DbzWXF8663Gg"
      }
    },
    {
      "cell_type": "code",
      "source": [
        "lol.drop(\"Unnamed: 13\", axis = 1, inplace = True)"
      ],
      "metadata": {
        "id": "i6KdE-5E6_s4"
      },
      "execution_count": null,
      "outputs": []
    },
    {
      "cell_type": "markdown",
      "source": [
        "Next, we would like to drop the \"SUMMONERNAME\" and \"PUUID\" column, since in the scope of this notebook, these columns would not be \"helpful\" in predicting the results."
      ],
      "metadata": {
        "id": "TSPKfWhc7TfU"
      }
    },
    {
      "cell_type": "code",
      "source": [
        "lol.drop([\"SUMMONERNAME\", \"PUUID\"], axis = 1, inplace = True)"
      ],
      "metadata": {
        "id": "DZQa3vhc72qJ"
      },
      "execution_count": null,
      "outputs": []
    },
    {
      "cell_type": "markdown",
      "source": [
        "When we look at the \"P_MATCH_ID\" column, we can see that this column consist of 3 information in the form: region_matchid_role, so this column can be split into 3 columns: region, match, and role. After that, we will be able to drop \"P_MATCH_ID\". "
      ],
      "metadata": {
        "id": "ch6nJ2wZ8Cga"
      }
    },
    {
      "cell_type": "code",
      "source": [
        "#create column for role\n",
        "lol['Role'] = lol['P_MATCH_ID'].apply(lambda x: x.split('_')[2])\n",
        "\n",
        "#create column for match\n",
        "lol['Match'] = lol['P_MATCH_ID'].apply(lambda x: x.split('_')[1])\n",
        "\n",
        "#reate column for region/server\n",
        "lol['Region'] = lol['P_MATCH_ID'].apply(lambda x: x.split('_')[0])"
      ],
      "metadata": {
        "id": "4pFvydrT8dHX"
      },
      "execution_count": null,
      "outputs": []
    },
    {
      "cell_type": "code",
      "source": [
        "#drop P_MATCH_ID\n",
        "lol.drop('P_MATCH_ID', axis = 1, inplace = True)"
      ],
      "metadata": {
        "id": "fCncy8is8w-u"
      },
      "execution_count": null,
      "outputs": []
    },
    {
      "cell_type": "code",
      "source": [
        "#check the dataset after done all above steps\n",
        "lol.head()"
      ],
      "metadata": {
        "colab": {
          "base_uri": "https://localhost:8080/",
          "height": 206
        },
        "id": "Tm9R1Sp289iE",
        "outputId": "033f4872-5885-4dda-b65d-542e6b8b781a"
      },
      "execution_count": null,
      "outputs": [
        {
          "output_type": "execute_result",
          "data": {
            "text/plain": [
              "   GOLDEARNED  TOTALMINIONSKILLED    WIN  KILLS  ASSISTS  DEATHS  CHAMPION  \\\n",
              "0       14425                 194  False     14        5       7  Kassadin   \n",
              "1       12920                 177   True      3       13       6     Fiora   \n",
              "2       13483                 221  False      7        3       6      Yone   \n",
              "3       11375                 167   True      4       15       7     Corki   \n",
              "4       11320                 197  False      5       10      12     Kaisa   \n",
              "\n",
              "   VISIONSCORE  TOTALDAMAGEDEALTTOCHAMPIONS     GAMEVERSION    Role  \\\n",
              "0           17                        33426  11.14.384.6677     top   \n",
              "1           17                        12092  11.14.384.6677     top   \n",
              "2           20                        20604  11.14.384.6677  middle   \n",
              "3           27                        30150  11.14.384.6677  middle   \n",
              "4           17                        16689  11.14.384.6677  bottom   \n",
              "\n",
              "        Match Region  \n",
              "0  1201957752    TR1  \n",
              "1  1201957752    TR1  \n",
              "2  1201957752    TR1  \n",
              "3  1201957752    TR1  \n",
              "4  1201957752    TR1  "
            ],
            "text/html": [
              "\n",
              "  <div id=\"df-79776102-7c0f-46c7-bd7c-a8446506c06c\">\n",
              "    <div class=\"colab-df-container\">\n",
              "      <div>\n",
              "<style scoped>\n",
              "    .dataframe tbody tr th:only-of-type {\n",
              "        vertical-align: middle;\n",
              "    }\n",
              "\n",
              "    .dataframe tbody tr th {\n",
              "        vertical-align: top;\n",
              "    }\n",
              "\n",
              "    .dataframe thead th {\n",
              "        text-align: right;\n",
              "    }\n",
              "</style>\n",
              "<table border=\"1\" class=\"dataframe\">\n",
              "  <thead>\n",
              "    <tr style=\"text-align: right;\">\n",
              "      <th></th>\n",
              "      <th>GOLDEARNED</th>\n",
              "      <th>TOTALMINIONSKILLED</th>\n",
              "      <th>WIN</th>\n",
              "      <th>KILLS</th>\n",
              "      <th>ASSISTS</th>\n",
              "      <th>DEATHS</th>\n",
              "      <th>CHAMPION</th>\n",
              "      <th>VISIONSCORE</th>\n",
              "      <th>TOTALDAMAGEDEALTTOCHAMPIONS</th>\n",
              "      <th>GAMEVERSION</th>\n",
              "      <th>Role</th>\n",
              "      <th>Match</th>\n",
              "      <th>Region</th>\n",
              "    </tr>\n",
              "  </thead>\n",
              "  <tbody>\n",
              "    <tr>\n",
              "      <th>0</th>\n",
              "      <td>14425</td>\n",
              "      <td>194</td>\n",
              "      <td>False</td>\n",
              "      <td>14</td>\n",
              "      <td>5</td>\n",
              "      <td>7</td>\n",
              "      <td>Kassadin</td>\n",
              "      <td>17</td>\n",
              "      <td>33426</td>\n",
              "      <td>11.14.384.6677</td>\n",
              "      <td>top</td>\n",
              "      <td>1201957752</td>\n",
              "      <td>TR1</td>\n",
              "    </tr>\n",
              "    <tr>\n",
              "      <th>1</th>\n",
              "      <td>12920</td>\n",
              "      <td>177</td>\n",
              "      <td>True</td>\n",
              "      <td>3</td>\n",
              "      <td>13</td>\n",
              "      <td>6</td>\n",
              "      <td>Fiora</td>\n",
              "      <td>17</td>\n",
              "      <td>12092</td>\n",
              "      <td>11.14.384.6677</td>\n",
              "      <td>top</td>\n",
              "      <td>1201957752</td>\n",
              "      <td>TR1</td>\n",
              "    </tr>\n",
              "    <tr>\n",
              "      <th>2</th>\n",
              "      <td>13483</td>\n",
              "      <td>221</td>\n",
              "      <td>False</td>\n",
              "      <td>7</td>\n",
              "      <td>3</td>\n",
              "      <td>6</td>\n",
              "      <td>Yone</td>\n",
              "      <td>20</td>\n",
              "      <td>20604</td>\n",
              "      <td>11.14.384.6677</td>\n",
              "      <td>middle</td>\n",
              "      <td>1201957752</td>\n",
              "      <td>TR1</td>\n",
              "    </tr>\n",
              "    <tr>\n",
              "      <th>3</th>\n",
              "      <td>11375</td>\n",
              "      <td>167</td>\n",
              "      <td>True</td>\n",
              "      <td>4</td>\n",
              "      <td>15</td>\n",
              "      <td>7</td>\n",
              "      <td>Corki</td>\n",
              "      <td>27</td>\n",
              "      <td>30150</td>\n",
              "      <td>11.14.384.6677</td>\n",
              "      <td>middle</td>\n",
              "      <td>1201957752</td>\n",
              "      <td>TR1</td>\n",
              "    </tr>\n",
              "    <tr>\n",
              "      <th>4</th>\n",
              "      <td>11320</td>\n",
              "      <td>197</td>\n",
              "      <td>False</td>\n",
              "      <td>5</td>\n",
              "      <td>10</td>\n",
              "      <td>12</td>\n",
              "      <td>Kaisa</td>\n",
              "      <td>17</td>\n",
              "      <td>16689</td>\n",
              "      <td>11.14.384.6677</td>\n",
              "      <td>bottom</td>\n",
              "      <td>1201957752</td>\n",
              "      <td>TR1</td>\n",
              "    </tr>\n",
              "  </tbody>\n",
              "</table>\n",
              "</div>\n",
              "      <button class=\"colab-df-convert\" onclick=\"convertToInteractive('df-79776102-7c0f-46c7-bd7c-a8446506c06c')\"\n",
              "              title=\"Convert this dataframe to an interactive table.\"\n",
              "              style=\"display:none;\">\n",
              "        \n",
              "  <svg xmlns=\"http://www.w3.org/2000/svg\" height=\"24px\"viewBox=\"0 0 24 24\"\n",
              "       width=\"24px\">\n",
              "    <path d=\"M0 0h24v24H0V0z\" fill=\"none\"/>\n",
              "    <path d=\"M18.56 5.44l.94 2.06.94-2.06 2.06-.94-2.06-.94-.94-2.06-.94 2.06-2.06.94zm-11 1L8.5 8.5l.94-2.06 2.06-.94-2.06-.94L8.5 2.5l-.94 2.06-2.06.94zm10 10l.94 2.06.94-2.06 2.06-.94-2.06-.94-.94-2.06-.94 2.06-2.06.94z\"/><path d=\"M17.41 7.96l-1.37-1.37c-.4-.4-.92-.59-1.43-.59-.52 0-1.04.2-1.43.59L10.3 9.45l-7.72 7.72c-.78.78-.78 2.05 0 2.83L4 21.41c.39.39.9.59 1.41.59.51 0 1.02-.2 1.41-.59l7.78-7.78 2.81-2.81c.8-.78.8-2.07 0-2.86zM5.41 20L4 18.59l7.72-7.72 1.47 1.35L5.41 20z\"/>\n",
              "  </svg>\n",
              "      </button>\n",
              "      \n",
              "  <style>\n",
              "    .colab-df-container {\n",
              "      display:flex;\n",
              "      flex-wrap:wrap;\n",
              "      gap: 12px;\n",
              "    }\n",
              "\n",
              "    .colab-df-convert {\n",
              "      background-color: #E8F0FE;\n",
              "      border: none;\n",
              "      border-radius: 50%;\n",
              "      cursor: pointer;\n",
              "      display: none;\n",
              "      fill: #1967D2;\n",
              "      height: 32px;\n",
              "      padding: 0 0 0 0;\n",
              "      width: 32px;\n",
              "    }\n",
              "\n",
              "    .colab-df-convert:hover {\n",
              "      background-color: #E2EBFA;\n",
              "      box-shadow: 0px 1px 2px rgba(60, 64, 67, 0.3), 0px 1px 3px 1px rgba(60, 64, 67, 0.15);\n",
              "      fill: #174EA6;\n",
              "    }\n",
              "\n",
              "    [theme=dark] .colab-df-convert {\n",
              "      background-color: #3B4455;\n",
              "      fill: #D2E3FC;\n",
              "    }\n",
              "\n",
              "    [theme=dark] .colab-df-convert:hover {\n",
              "      background-color: #434B5C;\n",
              "      box-shadow: 0px 1px 3px 1px rgba(0, 0, 0, 0.15);\n",
              "      filter: drop-shadow(0px 1px 2px rgba(0, 0, 0, 0.3));\n",
              "      fill: #FFFFFF;\n",
              "    }\n",
              "  </style>\n",
              "\n",
              "      <script>\n",
              "        const buttonEl =\n",
              "          document.querySelector('#df-79776102-7c0f-46c7-bd7c-a8446506c06c button.colab-df-convert');\n",
              "        buttonEl.style.display =\n",
              "          google.colab.kernel.accessAllowed ? 'block' : 'none';\n",
              "\n",
              "        async function convertToInteractive(key) {\n",
              "          const element = document.querySelector('#df-79776102-7c0f-46c7-bd7c-a8446506c06c');\n",
              "          const dataTable =\n",
              "            await google.colab.kernel.invokeFunction('convertToInteractive',\n",
              "                                                     [key], {});\n",
              "          if (!dataTable) return;\n",
              "\n",
              "          const docLinkHtml = 'Like what you see? Visit the ' +\n",
              "            '<a target=\"_blank\" href=https://colab.research.google.com/notebooks/data_table.ipynb>data table notebook</a>'\n",
              "            + ' to learn more about interactive tables.';\n",
              "          element.innerHTML = '';\n",
              "          dataTable['output_type'] = 'display_data';\n",
              "          await google.colab.output.renderOutput(dataTable, element);\n",
              "          const docLink = document.createElement('div');\n",
              "          docLink.innerHTML = docLinkHtml;\n",
              "          element.appendChild(docLink);\n",
              "        }\n",
              "      </script>\n",
              "    </div>\n",
              "  </div>\n",
              "  "
            ]
          },
          "metadata": {},
          "execution_count": 14
        }
      ]
    },
    {
      "cell_type": "markdown",
      "source": [
        "Now we have a better dataset for analyzing, and we are able to explore more from this data. "
      ],
      "metadata": {
        "id": "jpjDTjoo9Cmt"
      }
    },
    {
      "cell_type": "markdown",
      "source": [
        "#### 4. Exploratory Data Analysis"
      ],
      "metadata": {
        "id": "iEDwvN_W9K4j"
      }
    },
    {
      "cell_type": "markdown",
      "source": [
        "The first thing that we would like to know is how variables are correlated to each other in our dataset."
      ],
      "metadata": {
        "id": "o1ea0Qpn9QL1"
      }
    },
    {
      "cell_type": "code",
      "source": [
        "#heatmap of correlation\n",
        "plt.subplots(figsize = (10,6))\n",
        "sns.heatmap(lol.corr(), annot = True)"
      ],
      "metadata": {
        "colab": {
          "base_uri": "https://localhost:8080/",
          "height": 566
        },
        "id": "8zHuz4eK9PTJ",
        "outputId": "e7f4e8b3-8fb2-4708-c9e7-214e94bc46a5"
      },
      "execution_count": null,
      "outputs": [
        {
          "output_type": "execute_result",
          "data": {
            "text/plain": [
              "<matplotlib.axes._subplots.AxesSubplot at 0x7f3959b36750>"
            ]
          },
          "metadata": {},
          "execution_count": 15
        },
        {
          "output_type": "display_data",
          "data": {
            "text/plain": [
              "<Figure size 720x432 with 2 Axes>"
            ],
            "image/png": "[encoded data removed]"
          },
          "metadata": {
            "needs_background": "light"
          }
        }
      ]
    },
    {
      "cell_type": "markdown",
      "source": [
        "As we can see through this heatmap, gold earned, kills, deaths, and assists are the four most correlated variables to whether the player win, which is easy to explained as these are the most important statistics in LOL match and are always analyzed first when talking about a match. "
      ],
      "metadata": {
        "id": "O96731UT-ETw"
      }
    },
    {
      "cell_type": "markdown",
      "source": [
        "In the scope of our question, we would mostly focus on how different factors affect winrate of a game. "
      ],
      "metadata": {
        "id": "aozZLMQKCotN"
      }
    },
    {
      "cell_type": "markdown",
      "source": [
        "a. Win vs. Gold earned"
      ],
      "metadata": {
        "id": "0VKcjZNZHxVj"
      }
    },
    {
      "cell_type": "markdown",
      "source": [
        "The first thing that we would want to investigate is how gold earned by a player at different roles would affect win rate, because of the speciality in playstyle of each role."
      ],
      "metadata": {
        "id": "rV_04NdYDATB"
      }
    },
    {
      "cell_type": "code",
      "source": [
        "#The amount of gold earned in each role\n",
        "sns.boxplot(data = lol, x = 'Role', y = 'GOLDEARNED')"
      ],
      "metadata": {
        "colab": {
          "base_uri": "https://localhost:8080/",
          "height": 296
        },
        "id": "Zlskqgw5GUzq",
        "outputId": "9e036ec0-4235-4299-d9b0-b1b13ec5183a"
      },
      "execution_count": null,
      "outputs": [
        {
          "output_type": "execute_result",
          "data": {
            "text/plain": [
              "<matplotlib.axes._subplots.AxesSubplot at 0x7f39478d6f90>"
            ]
          },
          "metadata": {},
          "execution_count": 16
        },
        {
          "output_type": "display_data",
          "data": {
            "text/plain": [
              "<Figure size 432x288 with 1 Axes>"
            ],
            "image/png": "[encoded data removed]"
          },
          "metadata": {
            "needs_background": "light"
          }
        }
      ]
    },
    {
      "cell_type": "markdown",
      "source": [
        "Apart from the support (utility) role, the distribution of gold in every role are nearly the same, with AD (bottom) has a slightly larger IQR (utility has the lowest range and IQR)"
      ],
      "metadata": {
        "id": "IDDYHTFGGxG1"
      }
    },
    {
      "cell_type": "code",
      "source": [
        "#Amount of gold earned vs. whether the player win or not\n",
        "sns.catplot(x='WIN', y='GOLDEARNED', col='Role', data=lol, kind='box',height=4, aspect=.7);"
      ],
      "metadata": {
        "colab": {
          "base_uri": "https://localhost:8080/",
          "height": 297
        },
        "id": "rwTjHY2DDGP2",
        "outputId": "1f01a370-dfa1-4ceb-f79a-4eef921eb56b"
      },
      "execution_count": null,
      "outputs": [
        {
          "output_type": "display_data",
          "data": {
            "text/plain": [
              "<Figure size 1008x288 with 5 Axes>"
            ],
            "image/png": "[encoded data removed]"
          },
          "metadata": {
            "needs_background": "light"
          }
        }
      ]
    },
    {
      "cell_type": "markdown",
      "source": [
        "Overall, it is easy to indicate that the gold earned for a winning player is higher than a losing player, with about 3000 gold in difference, despite the fact that each role can have a different gold amount. This can be explained as gold difference can lead to items difference, which would lead to power difference and affect the game result (3000 gold behind can be considered equivalent to an item deficit.)"
      ],
      "metadata": {
        "id": "7N53PoxwFg-B"
      }
    },
    {
      "cell_type": "markdown",
      "source": [
        "b. Win vs. Kills, Assists, and Deaths"
      ],
      "metadata": {
        "id": "sD6doq8pH1Qt"
      }
    },
    {
      "cell_type": "markdown",
      "source": [
        "Next we would like to explore how Kills, Assists, and Deaths would affect the win rate, as these are direct statistics created by result of combats. For those who are not familiar with the game:\n",
        "*   Kills: number of times a player kills an opponent\n",
        "*   Assists: number of times a player helps ones team to kill an opponent, without directly killing the opponent\n",
        "*   Deaths: number of times a player is taken down by opponents. \n",
        "\n",
        "In LOL, those are the main metrics when players looked back at their performance in a game, and they sometimes are considered the main way to measure ones performance in a game. In this part, I will visualize how these stats are correlated to win rates. But at first, we will start by looking into the relationship of kills, deaths, and assists."
      ],
      "metadata": {
        "id": "1yIqteevH9n3"
      }
    },
    {
      "cell_type": "code",
      "source": [
        "sns.pairplot(lol[['KILLS','ASSISTS','DEATHS']])"
      ],
      "metadata": {
        "colab": {
          "base_uri": "https://localhost:8080/",
          "height": 567
        },
        "id": "SBXui_T7DSdn",
        "outputId": "2bd07fd3-b8eb-4c4b-fb0b-b3ae90e10aa2"
      },
      "execution_count": null,
      "outputs": [
        {
          "output_type": "execute_result",
          "data": {
            "text/plain": [
              "<seaborn.axisgrid.PairGrid at 0x7f39476e7710>"
            ]
          },
          "metadata": {},
          "execution_count": 18
        },
        {
          "output_type": "display_data",
          "data": {
            "text/plain": [
              "<Figure size 540x540 with 12 Axes>"
            ],
            "image/png": "[encoded data removed]"
          },
          "metadata": {
            "needs_background": "light"
          }
        }
      ]
    },
    {
      "cell_type": "markdown",
      "source": [
        "From these plots, we can see that there is a negative relationship between kills and assists, and the distribution for number of kills is a little bit more skewed than assists. For the number of deaths, there is nearly no correlation between this variable and kills or assists, and its distribution if also more \"normal\" comparing to other variables. "
      ],
      "metadata": {
        "id": "Lh0JAKAHdOqZ"
      }
    },
    {
      "cell_type": "code",
      "source": [
        "sns.boxplot(x = 'WIN', y = 'KILLS', data = lol)"
      ],
      "metadata": {
        "colab": {
          "base_uri": "https://localhost:8080/",
          "height": 296
        },
        "id": "2oJltSijGbpo",
        "outputId": "5ee212e9-f814-4a9b-840e-d21a0a868486"
      },
      "execution_count": null,
      "outputs": [
        {
          "output_type": "execute_result",
          "data": {
            "text/plain": [
              "<matplotlib.axes._subplots.AxesSubplot at 0x7f39470a2910>"
            ]
          },
          "metadata": {},
          "execution_count": 19
        },
        {
          "output_type": "display_data",
          "data": {
            "text/plain": [
              "<Figure size 432x288 with 1 Axes>"
            ],
            "image/png": "[encoded data removed]"
          },
          "metadata": {
            "needs_background": "light"
          }
        }
      ]
    },
    {
      "cell_type": "code",
      "source": [
        "sns.boxplot(x = 'WIN', y = 'ASSISTS', data = lol)"
      ],
      "metadata": {
        "colab": {
          "base_uri": "https://localhost:8080/",
          "height": 296
        },
        "id": "5ZyUyTXRG0GD",
        "outputId": "a52e0e2e-17d9-48f8-d476-b63d88ed1ef4"
      },
      "execution_count": null,
      "outputs": [
        {
          "output_type": "execute_result",
          "data": {
            "text/plain": [
              "<matplotlib.axes._subplots.AxesSubplot at 0x7f39471bb910>"
            ]
          },
          "metadata": {},
          "execution_count": 20
        },
        {
          "output_type": "display_data",
          "data": {
            "text/plain": [
              "<Figure size 432x288 with 1 Axes>"
            ],
            "image/png": "[encoded data removed]"
          },
          "metadata": {
            "needs_background": "light"
          }
        }
      ]
    },
    {
      "cell_type": "code",
      "source": [
        "sns.boxplot(x = 'WIN', y = 'DEATHS', data = lol)"
      ],
      "metadata": {
        "colab": {
          "base_uri": "https://localhost:8080/",
          "height": 296
        },
        "id": "G-_tTpmzG3K5",
        "outputId": "b2c494c0-b4a2-48bd-8509-990e1a7fc137"
      },
      "execution_count": null,
      "outputs": [
        {
          "output_type": "execute_result",
          "data": {
            "text/plain": [
              "<matplotlib.axes._subplots.AxesSubplot at 0x7f39463aac50>"
            ]
          },
          "metadata": {},
          "execution_count": 21
        },
        {
          "output_type": "display_data",
          "data": {
            "text/plain": [
              "<Figure size 432x288 with 1 Axes>"
            ],
            "image/png": "[encoded data removed]"
          },
          "metadata": {
            "needs_background": "light"
          }
        }
      ]
    },
    {
      "cell_type": "markdown",
      "source": [
        "With these plots, we can see a \"common\" trend in League of Legends: the more kills and assists you have, the higher the win rates, but the more deaths you have, the lower the win rates, as there is a substantial difference in the mean of kills, assists vs. deaths for wins and losses. This can be explained as more kills and assists would make your champion reaches its power earlier than the opponent; therefore, you will have more advantage to \"snowball\" and win the game. "
      ],
      "metadata": {
        "id": "aCRWeBJ3fk8e"
      }
    },
    {
      "cell_type": "markdown",
      "source": [
        "For other statistics (vision score, minions killed, and total damaged dealt), since its correlation to win are very small (less than 0.1), so we will not analyzed them more in the scope of this notebook. The only new trend that we can see is that there is a very slightly negative relationship between damage dealt and win rate, as champion that deal more damage should have more winning chance."
      ],
      "metadata": {
        "id": "4ZbCOq2BjEBT"
      }
    },
    {
      "cell_type": "code",
      "source": [
        "g = sns.catplot(x='WIN', y='TOTALDAMAGEDEALTTOCHAMPIONS', col='Role', data=lol, kind='box',height=4, aspect=.7);\n",
        "g.set(ylim = (0,100000))"
      ],
      "metadata": {
        "colab": {
          "base_uri": "https://localhost:8080/",
          "height": 314
        },
        "id": "j2LoAmaPjr7f",
        "outputId": "83787b2e-39de-464a-af77-e5fe8fd31ff5"
      },
      "execution_count": null,
      "outputs": [
        {
          "output_type": "execute_result",
          "data": {
            "text/plain": [
              "<seaborn.axisgrid.FacetGrid at 0x7f394642f9d0>"
            ]
          },
          "metadata": {},
          "execution_count": 22
        },
        {
          "output_type": "display_data",
          "data": {
            "text/plain": [
              "<Figure size 1008x288 with 5 Axes>"
            ],
            "image/png": "[encoded data removed]"
          },
          "metadata": {
            "needs_background": "light"
          }
        }
      ]
    },
    {
      "cell_type": "markdown",
      "source": [
        "It can be seen from here that the difference between total damage dealt for winning vs. losing game is very small, about 5000 damage (for bottom role, there is nearly no difference). "
      ],
      "metadata": {
        "id": "EYGFHowTk6r1"
      }
    },
    {
      "cell_type": "markdown",
      "source": [
        "d. How win rate differs between champion?"
      ],
      "metadata": {
        "id": "cIEPFpjMPOXC"
      }
    },
    {
      "cell_type": "markdown",
      "source": [
        "Here we provide a brief summary of winrate of each champion in each role. For each role, we provides a summary of gold, kills, assists, deaths, damage dealt, and vision points for each champion of this role, as these stats would be vary greatly depends on the champion and the role you play. "
      ],
      "metadata": {
        "id": "saUUynZ6qt-J"
      }
    },
    {
      "cell_type": "code",
      "source": [
        "def champion_summary(data):\n",
        "  return(data.groupby('CHAMPION').agg(appearance = ('Match', 'count'), wr = ('WIN', 'mean'), avg_gold = ('GOLDEARNED', 'mean'), avg_kills = ('KILLS', 'mean'), avg_assists = ('ASSISTS', 'mean'), avg_death = ('DEATHS', 'mean'), avg_viz = ('VISIONSCORE', 'mean'), avg_dam = ('TOTALDAMAGEDEALTTOCHAMPIONS', 'mean')))"
      ],
      "metadata": {
        "id": "cJVtCwCGp3Mh"
      },
      "execution_count": null,
      "outputs": []
    },
    {
      "cell_type": "code",
      "source": [
        "champion_summary(lol[lol['Role'] == 'top']).sort_values('appearance', ascending = False)"
      ],
      "metadata": {
        "colab": {
          "base_uri": "https://localhost:8080/",
          "height": 455
        },
        "id": "yI48vDItqK_C",
        "outputId": "e8dc9c49-49b6-469f-dee3-ddecca30320d"
      },
      "execution_count": null,
      "outputs": [
        {
          "output_type": "execute_result",
          "data": {
            "text/plain": [
              "             appearance        wr      avg_gold  avg_kills  avg_assists  \\\n",
              "CHAMPION                                                                  \n",
              "Camille           15545  0.522483  10622.111225   5.858540     5.552461   \n",
              "Sett              14604  0.508628  10576.828129   5.103602     5.621474   \n",
              "Fiora             10773  0.523345  11199.090968   6.016987     4.140815   \n",
              "Riven             10604  0.526311  11198.852886   6.186722     4.916447   \n",
              "Irelia            10287  0.489939  11727.386118   6.369787     4.326140   \n",
              "...                 ...       ...           ...        ...          ...   \n",
              "Taliyah               6  0.500000  11408.833333   7.000000     7.500000   \n",
              "MissFortune           5  0.400000   9234.000000   3.600000     4.000000   \n",
              "Nami                  5  0.200000   6222.600000   1.400000     5.000000   \n",
              "Braum                 4  0.250000   5589.250000   2.000000     3.750000   \n",
              "Jinx                  1  0.000000  18566.000000   9.000000     9.000000   \n",
              "\n",
              "             avg_death    avg_viz       avg_dam  \n",
              "CHAMPION                                         \n",
              "Camille       5.464780  17.673593  17640.091541  \n",
              "Sett          5.780608  17.414681  17952.443166  \n",
              "Fiora         5.559176  17.183793  17960.554999  \n",
              "Riven         5.482931  17.234251  16149.205866  \n",
              "Irelia        6.646544  16.950228  17674.144746  \n",
              "...                ...        ...           ...  \n",
              "Taliyah       7.833333  19.833333  22953.000000  \n",
              "MissFortune   6.000000  15.000000  11628.000000  \n",
              "Nami          5.200000   9.400000   7414.800000  \n",
              "Braum         4.250000   7.000000   6015.750000  \n",
              "Jinx          9.000000  38.000000  32554.000000  \n",
              "\n",
              "[156 rows x 8 columns]"
            ],
            "text/html": [
              "\n",
              "  <div id=\"df-4b1907b8-9485-4b12-a67d-7adc98bd60c1\">\n",
              "    <div class=\"colab-df-container\">\n",
              "      <div>\n",
              "<style scoped>\n",
              "    .dataframe tbody tr th:only-of-type {\n",
              "        vertical-align: middle;\n",
              "    }\n",
              "\n",
              "    .dataframe tbody tr th {\n",
              "        vertical-align: top;\n",
              "    }\n",
              "\n",
              "    .dataframe thead th {\n",
              "        text-align: right;\n",
              "    }\n",
              "</style>\n",
              "<table border=\"1\" class=\"dataframe\">\n",
              "  <thead>\n",
              "    <tr style=\"text-align: right;\">\n",
              "      <th></th>\n",
              "      <th>appearance</th>\n",
              "      <th>wr</th>\n",
              "      <th>avg_gold</th>\n",
              "      <th>avg_kills</th>\n",
              "      <th>avg_assists</th>\n",
              "      <th>avg_death</th>\n",
              "      <th>avg_viz</th>\n",
              "      <th>avg_dam</th>\n",
              "    </tr>\n",
              "    <tr>\n",
              "      <th>CHAMPION</th>\n",
              "      <th></th>\n",
              "      <th></th>\n",
              "      <th></th>\n",
              "      <th></th>\n",
              "      <th></th>\n",
              "      <th></th>\n",
              "      <th></th>\n",
              "      <th></th>\n",
              "    </tr>\n",
              "  </thead>\n",
              "  <tbody>\n",
              "    <tr>\n",
              "      <th>Camille</th>\n",
              "      <td>15545</td>\n",
              "      <td>0.522483</td>\n",
              "      <td>10622.111225</td>\n",
              "      <td>5.858540</td>\n",
              "      <td>5.552461</td>\n",
              "      <td>5.464780</td>\n",
              "      <td>17.673593</td>\n",
              "      <td>17640.091541</td>\n",
              "    </tr>\n",
              "    <tr>\n",
              "      <th>Sett</th>\n",
              "      <td>14604</td>\n",
              "      <td>0.508628</td>\n",
              "      <td>10576.828129</td>\n",
              "      <td>5.103602</td>\n",
              "      <td>5.621474</td>\n",
              "      <td>5.780608</td>\n",
              "      <td>17.414681</td>\n",
              "      <td>17952.443166</td>\n",
              "    </tr>\n",
              "    <tr>\n",
              "      <th>Fiora</th>\n",
              "      <td>10773</td>\n",
              "      <td>0.523345</td>\n",
              "      <td>11199.090968</td>\n",
              "      <td>6.016987</td>\n",
              "      <td>4.140815</td>\n",
              "      <td>5.559176</td>\n",
              "      <td>17.183793</td>\n",
              "      <td>17960.554999</td>\n",
              "    </tr>\n",
              "    <tr>\n",
              "      <th>Riven</th>\n",
              "      <td>10604</td>\n",
              "      <td>0.526311</td>\n",
              "      <td>11198.852886</td>\n",
              "      <td>6.186722</td>\n",
              "      <td>4.916447</td>\n",
              "      <td>5.482931</td>\n",
              "      <td>17.234251</td>\n",
              "      <td>16149.205866</td>\n",
              "    </tr>\n",
              "    <tr>\n",
              "      <th>Irelia</th>\n",
              "      <td>10287</td>\n",
              "      <td>0.489939</td>\n",
              "      <td>11727.386118</td>\n",
              "      <td>6.369787</td>\n",
              "      <td>4.326140</td>\n",
              "      <td>6.646544</td>\n",
              "      <td>16.950228</td>\n",
              "      <td>17674.144746</td>\n",
              "    </tr>\n",
              "    <tr>\n",
              "      <th>...</th>\n",
              "      <td>...</td>\n",
              "      <td>...</td>\n",
              "      <td>...</td>\n",
              "      <td>...</td>\n",
              "      <td>...</td>\n",
              "      <td>...</td>\n",
              "      <td>...</td>\n",
              "      <td>...</td>\n",
              "    </tr>\n",
              "    <tr>\n",
              "      <th>Taliyah</th>\n",
              "      <td>6</td>\n",
              "      <td>0.500000</td>\n",
              "      <td>11408.833333</td>\n",
              "      <td>7.000000</td>\n",
              "      <td>7.500000</td>\n",
              "      <td>7.833333</td>\n",
              "      <td>19.833333</td>\n",
              "      <td>22953.000000</td>\n",
              "    </tr>\n",
              "    <tr>\n",
              "      <th>MissFortune</th>\n",
              "      <td>5</td>\n",
              "      <td>0.400000</td>\n",
              "      <td>9234.000000</td>\n",
              "      <td>3.600000</td>\n",
              "      <td>4.000000</td>\n",
              "      <td>6.000000</td>\n",
              "      <td>15.000000</td>\n",
              "      <td>11628.000000</td>\n",
              "    </tr>\n",
              "    <tr>\n",
              "      <th>Nami</th>\n",
              "      <td>5</td>\n",
              "      <td>0.200000</td>\n",
              "      <td>6222.600000</td>\n",
              "      <td>1.400000</td>\n",
              "      <td>5.000000</td>\n",
              "      <td>5.200000</td>\n",
              "      <td>9.400000</td>\n",
              "      <td>7414.800000</td>\n",
              "    </tr>\n",
              "    <tr>\n",
              "      <th>Braum</th>\n",
              "      <td>4</td>\n",
              "      <td>0.250000</td>\n",
              "      <td>5589.250000</td>\n",
              "      <td>2.000000</td>\n",
              "      <td>3.750000</td>\n",
              "      <td>4.250000</td>\n",
              "      <td>7.000000</td>\n",
              "      <td>6015.750000</td>\n",
              "    </tr>\n",
              "    <tr>\n",
              "      <th>Jinx</th>\n",
              "      <td>1</td>\n",
              "      <td>0.000000</td>\n",
              "      <td>18566.000000</td>\n",
              "      <td>9.000000</td>\n",
              "      <td>9.000000</td>\n",
              "      <td>9.000000</td>\n",
              "      <td>38.000000</td>\n",
              "      <td>32554.000000</td>\n",
              "    </tr>\n",
              "  </tbody>\n",
              "</table>\n",
              "<p>156 rows × 8 columns</p>\n",
              "</div>\n",
              "      <button class=\"colab-df-convert\" onclick=\"convertToInteractive('df-4b1907b8-9485-4b12-a67d-7adc98bd60c1')\"\n",
              "              title=\"Convert this dataframe to an interactive table.\"\n",
              "              style=\"display:none;\">\n",
              "        \n",
              "  <svg xmlns=\"http://www.w3.org/2000/svg\" height=\"24px\"viewBox=\"0 0 24 24\"\n",
              "       width=\"24px\">\n",
              "    <path d=\"M0 0h24v24H0V0z\" fill=\"none\"/>\n",
              "    <path d=\"M18.56 5.44l.94 2.06.94-2.06 2.06-.94-2.06-.94-.94-2.06-.94 2.06-2.06.94zm-11 1L8.5 8.5l.94-2.06 2.06-.94-2.06-.94L8.5 2.5l-.94 2.06-2.06.94zm10 10l.94 2.06.94-2.06 2.06-.94-2.06-.94-.94-2.06-.94 2.06-2.06.94z\"/><path d=\"M17.41 7.96l-1.37-1.37c-.4-.4-.92-.59-1.43-.59-.52 0-1.04.2-1.43.59L10.3 9.45l-7.72 7.72c-.78.78-.78 2.05 0 2.83L4 21.41c.39.39.9.59 1.41.59.51 0 1.02-.2 1.41-.59l7.78-7.78 2.81-2.81c.8-.78.8-2.07 0-2.86zM5.41 20L4 18.59l7.72-7.72 1.47 1.35L5.41 20z\"/>\n",
              "  </svg>\n",
              "      </button>\n",
              "      \n",
              "  <style>\n",
              "    .colab-df-container {\n",
              "      display:flex;\n",
              "      flex-wrap:wrap;\n",
              "      gap: 12px;\n",
              "    }\n",
              "\n",
              "    .colab-df-convert {\n",
              "      background-color: #E8F0FE;\n",
              "      border: none;\n",
              "      border-radius: 50%;\n",
              "      cursor: pointer;\n",
              "      display: none;\n",
              "      fill: #1967D2;\n",
              "      height: 32px;\n",
              "      padding: 0 0 0 0;\n",
              "      width: 32px;\n",
              "    }\n",
              "\n",
              "    .colab-df-convert:hover {\n",
              "      background-color: #E2EBFA;\n",
              "      box-shadow: 0px 1px 2px rgba(60, 64, 67, 0.3), 0px 1px 3px 1px rgba(60, 64, 67, 0.15);\n",
              "      fill: #174EA6;\n",
              "    }\n",
              "\n",
              "    [theme=dark] .colab-df-convert {\n",
              "      background-color: #3B4455;\n",
              "      fill: #D2E3FC;\n",
              "    }\n",
              "\n",
              "    [theme=dark] .colab-df-convert:hover {\n",
              "      background-color: #434B5C;\n",
              "      box-shadow: 0px 1px 3px 1px rgba(0, 0, 0, 0.15);\n",
              "      filter: drop-shadow(0px 1px 2px rgba(0, 0, 0, 0.3));\n",
              "      fill: #FFFFFF;\n",
              "    }\n",
              "  </style>\n",
              "\n",
              "      <script>\n",
              "        const buttonEl =\n",
              "          document.querySelector('#df-4b1907b8-9485-4b12-a67d-7adc98bd60c1 button.colab-df-convert');\n",
              "        buttonEl.style.display =\n",
              "          google.colab.kernel.accessAllowed ? 'block' : 'none';\n",
              "\n",
              "        async function convertToInteractive(key) {\n",
              "          const element = document.querySelector('#df-4b1907b8-9485-4b12-a67d-7adc98bd60c1');\n",
              "          const dataTable =\n",
              "            await google.colab.kernel.invokeFunction('convertToInteractive',\n",
              "                                                     [key], {});\n",
              "          if (!dataTable) return;\n",
              "\n",
              "          const docLinkHtml = 'Like what you see? Visit the ' +\n",
              "            '<a target=\"_blank\" href=https://colab.research.google.com/notebooks/data_table.ipynb>data table notebook</a>'\n",
              "            + ' to learn more about interactive tables.';\n",
              "          element.innerHTML = '';\n",
              "          dataTable['output_type'] = 'display_data';\n",
              "          await google.colab.output.renderOutput(dataTable, element);\n",
              "          const docLink = document.createElement('div');\n",
              "          docLink.innerHTML = docLinkHtml;\n",
              "          element.appendChild(docLink);\n",
              "        }\n",
              "      </script>\n",
              "    </div>\n",
              "  </div>\n",
              "  "
            ]
          },
          "metadata": {},
          "execution_count": 31
        }
      ]
    },
    {
      "cell_type": "code",
      "source": [
        "champion_summary(lol[lol['Role'] == 'jungle']).sort_values('appearance', ascending = False)"
      ],
      "metadata": {
        "colab": {
          "base_uri": "https://localhost:8080/",
          "height": 455
        },
        "id": "Myoh_-9aqVFO",
        "outputId": "8044614e-fdc8-460e-aeaa-fddd6353e924"
      },
      "execution_count": null,
      "outputs": [
        {
          "output_type": "execute_result",
          "data": {
            "text/plain": [
              "           appearance        wr      avg_gold  avg_kills  avg_assists  \\\n",
              "CHAMPION                                                                \n",
              "LeeSin          23512  0.514461  10796.667276   7.216145     8.337615   \n",
              "Viego           15514  0.491040  11006.445855   7.163659     6.585342   \n",
              "Diana           14611  0.479502  11266.604065   6.721101     7.127301   \n",
              "Kayn            13530  0.508056  11550.197561   7.865558     7.111973   \n",
              "XinZhao         13403  0.520107  10597.006416   6.361859     7.807058   \n",
              "...               ...       ...           ...        ...          ...   \n",
              "Swain               1  1.000000  10386.000000   7.000000    15.000000   \n",
              "Kalista             1  0.000000  12005.000000  10.000000     0.000000   \n",
              "Seraphine           1  0.000000   2606.000000   0.000000     1.000000   \n",
              "Kennen              1  0.000000  10719.000000   2.000000     9.000000   \n",
              "Illaoi              1  0.000000   9348.000000   1.000000     6.000000   \n",
              "\n",
              "           avg_death    avg_viz        avg_dam  \n",
              "CHAMPION                                        \n",
              "LeeSin      5.114920  23.612028   14902.355265  \n",
              "Viego       5.296764  23.396996 -122821.992910  \n",
              "Diana       5.646089  22.326261   17267.580795  \n",
              "Kayn        5.700370  20.444568   18316.558684  \n",
              "XinZhao     5.502574  23.396478   16314.047004  \n",
              "...              ...        ...            ...  \n",
              "Swain       2.000000  15.000000   17775.000000  \n",
              "Kalista    15.000000  31.000000   23904.000000  \n",
              "Seraphine   3.000000   4.000000    1384.000000  \n",
              "Kennen     10.000000  33.000000   12852.000000  \n",
              "Illaoi      5.000000  14.000000   19279.000000  \n",
              "\n",
              "[152 rows x 8 columns]"
            ],
            "text/html": [
              "\n",
              "  <div id=\"df-d3e16e23-ec28-4440-95e0-3678cb9a96e0\">\n",
              "    <div class=\"colab-df-container\">\n",
              "      <div>\n",
              "<style scoped>\n",
              "    .dataframe tbody tr th:only-of-type {\n",
              "        vertical-align: middle;\n",
              "    }\n",
              "\n",
              "    .dataframe tbody tr th {\n",
              "        vertical-align: top;\n",
              "    }\n",
              "\n",
              "    .dataframe thead th {\n",
              "        text-align: right;\n",
              "    }\n",
              "</style>\n",
              "<table border=\"1\" class=\"dataframe\">\n",
              "  <thead>\n",
              "    <tr style=\"text-align: right;\">\n",
              "      <th></th>\n",
              "      <th>appearance</th>\n",
              "      <th>wr</th>\n",
              "      <th>avg_gold</th>\n",
              "      <th>avg_kills</th>\n",
              "      <th>avg_assists</th>\n",
              "      <th>avg_death</th>\n",
              "      <th>avg_viz</th>\n",
              "      <th>avg_dam</th>\n",
              "    </tr>\n",
              "    <tr>\n",
              "      <th>CHAMPION</th>\n",
              "      <th></th>\n",
              "      <th></th>\n",
              "      <th></th>\n",
              "      <th></th>\n",
              "      <th></th>\n",
              "      <th></th>\n",
              "      <th></th>\n",
              "      <th></th>\n",
              "    </tr>\n",
              "  </thead>\n",
              "  <tbody>\n",
              "    <tr>\n",
              "      <th>LeeSin</th>\n",
              "      <td>23512</td>\n",
              "      <td>0.514461</td>\n",
              "      <td>10796.667276</td>\n",
              "      <td>7.216145</td>\n",
              "      <td>8.337615</td>\n",
              "      <td>5.114920</td>\n",
              "      <td>23.612028</td>\n",
              "      <td>14902.355265</td>\n",
              "    </tr>\n",
              "    <tr>\n",
              "      <th>Viego</th>\n",
              "      <td>15514</td>\n",
              "      <td>0.491040</td>\n",
              "      <td>11006.445855</td>\n",
              "      <td>7.163659</td>\n",
              "      <td>6.585342</td>\n",
              "      <td>5.296764</td>\n",
              "      <td>23.396996</td>\n",
              "      <td>-122821.992910</td>\n",
              "    </tr>\n",
              "    <tr>\n",
              "      <th>Diana</th>\n",
              "      <td>14611</td>\n",
              "      <td>0.479502</td>\n",
              "      <td>11266.604065</td>\n",
              "      <td>6.721101</td>\n",
              "      <td>7.127301</td>\n",
              "      <td>5.646089</td>\n",
              "      <td>22.326261</td>\n",
              "      <td>17267.580795</td>\n",
              "    </tr>\n",
              "    <tr>\n",
              "      <th>Kayn</th>\n",
              "      <td>13530</td>\n",
              "      <td>0.508056</td>\n",
              "      <td>11550.197561</td>\n",
              "      <td>7.865558</td>\n",
              "      <td>7.111973</td>\n",
              "      <td>5.700370</td>\n",
              "      <td>20.444568</td>\n",
              "      <td>18316.558684</td>\n",
              "    </tr>\n",
              "    <tr>\n",
              "      <th>XinZhao</th>\n",
              "      <td>13403</td>\n",
              "      <td>0.520107</td>\n",
              "      <td>10597.006416</td>\n",
              "      <td>6.361859</td>\n",
              "      <td>7.807058</td>\n",
              "      <td>5.502574</td>\n",
              "      <td>23.396478</td>\n",
              "      <td>16314.047004</td>\n",
              "    </tr>\n",
              "    <tr>\n",
              "      <th>...</th>\n",
              "      <td>...</td>\n",
              "      <td>...</td>\n",
              "      <td>...</td>\n",
              "      <td>...</td>\n",
              "      <td>...</td>\n",
              "      <td>...</td>\n",
              "      <td>...</td>\n",
              "      <td>...</td>\n",
              "    </tr>\n",
              "    <tr>\n",
              "      <th>Swain</th>\n",
              "      <td>1</td>\n",
              "      <td>1.000000</td>\n",
              "      <td>10386.000000</td>\n",
              "      <td>7.000000</td>\n",
              "      <td>15.000000</td>\n",
              "      <td>2.000000</td>\n",
              "      <td>15.000000</td>\n",
              "      <td>17775.000000</td>\n",
              "    </tr>\n",
              "    <tr>\n",
              "      <th>Kalista</th>\n",
              "      <td>1</td>\n",
              "      <td>0.000000</td>\n",
              "      <td>12005.000000</td>\n",
              "      <td>10.000000</td>\n",
              "      <td>0.000000</td>\n",
              "      <td>15.000000</td>\n",
              "      <td>31.000000</td>\n",
              "      <td>23904.000000</td>\n",
              "    </tr>\n",
              "    <tr>\n",
              "      <th>Seraphine</th>\n",
              "      <td>1</td>\n",
              "      <td>0.000000</td>\n",
              "      <td>2606.000000</td>\n",
              "      <td>0.000000</td>\n",
              "      <td>1.000000</td>\n",
              "      <td>3.000000</td>\n",
              "      <td>4.000000</td>\n",
              "      <td>1384.000000</td>\n",
              "    </tr>\n",
              "    <tr>\n",
              "      <th>Kennen</th>\n",
              "      <td>1</td>\n",
              "      <td>0.000000</td>\n",
              "      <td>10719.000000</td>\n",
              "      <td>2.000000</td>\n",
              "      <td>9.000000</td>\n",
              "      <td>10.000000</td>\n",
              "      <td>33.000000</td>\n",
              "      <td>12852.000000</td>\n",
              "    </tr>\n",
              "    <tr>\n",
              "      <th>Illaoi</th>\n",
              "      <td>1</td>\n",
              "      <td>0.000000</td>\n",
              "      <td>9348.000000</td>\n",
              "      <td>1.000000</td>\n",
              "      <td>6.000000</td>\n",
              "      <td>5.000000</td>\n",
              "      <td>14.000000</td>\n",
              "      <td>19279.000000</td>\n",
              "    </tr>\n",
              "  </tbody>\n",
              "</table>\n",
              "<p>152 rows × 8 columns</p>\n",
              "</div>\n",
              "      <button class=\"colab-df-convert\" onclick=\"convertToInteractive('df-d3e16e23-ec28-4440-95e0-3678cb9a96e0')\"\n",
              "              title=\"Convert this dataframe to an interactive table.\"\n",
              "              style=\"display:none;\">\n",
              "        \n",
              "  <svg xmlns=\"http://www.w3.org/2000/svg\" height=\"24px\"viewBox=\"0 0 24 24\"\n",
              "       width=\"24px\">\n",
              "    <path d=\"M0 0h24v24H0V0z\" fill=\"none\"/>\n",
              "    <path d=\"M18.56 5.44l.94 2.06.94-2.06 2.06-.94-2.06-.94-.94-2.06-.94 2.06-2.06.94zm-11 1L8.5 8.5l.94-2.06 2.06-.94-2.06-.94L8.5 2.5l-.94 2.06-2.06.94zm10 10l.94 2.06.94-2.06 2.06-.94-2.06-.94-.94-2.06-.94 2.06-2.06.94z\"/><path d=\"M17.41 7.96l-1.37-1.37c-.4-.4-.92-.59-1.43-.59-.52 0-1.04.2-1.43.59L10.3 9.45l-7.72 7.72c-.78.78-.78 2.05 0 2.83L4 21.41c.39.39.9.59 1.41.59.51 0 1.02-.2 1.41-.59l7.78-7.78 2.81-2.81c.8-.78.8-2.07 0-2.86zM5.41 20L4 18.59l7.72-7.72 1.47 1.35L5.41 20z\"/>\n",
              "  </svg>\n",
              "      </button>\n",
              "      \n",
              "  <style>\n",
              "    .colab-df-container {\n",
              "      display:flex;\n",
              "      flex-wrap:wrap;\n",
              "      gap: 12px;\n",
              "    }\n",
              "\n",
              "    .colab-df-convert {\n",
              "      background-color: #E8F0FE;\n",
              "      border: none;\n",
              "      border-radius: 50%;\n",
              "      cursor: pointer;\n",
              "      display: none;\n",
              "      fill: #1967D2;\n",
              "      height: 32px;\n",
              "      padding: 0 0 0 0;\n",
              "      width: 32px;\n",
              "    }\n",
              "\n",
              "    .colab-df-convert:hover {\n",
              "      background-color: #E2EBFA;\n",
              "      box-shadow: 0px 1px 2px rgba(60, 64, 67, 0.3), 0px 1px 3px 1px rgba(60, 64, 67, 0.15);\n",
              "      fill: #174EA6;\n",
              "    }\n",
              "\n",
              "    [theme=dark] .colab-df-convert {\n",
              "      background-color: #3B4455;\n",
              "      fill: #D2E3FC;\n",
              "    }\n",
              "\n",
              "    [theme=dark] .colab-df-convert:hover {\n",
              "      background-color: #434B5C;\n",
              "      box-shadow: 0px 1px 3px 1px rgba(0, 0, 0, 0.15);\n",
              "      filter: drop-shadow(0px 1px 2px rgba(0, 0, 0, 0.3));\n",
              "      fill: #FFFFFF;\n",
              "    }\n",
              "  </style>\n",
              "\n",
              "      <script>\n",
              "        const buttonEl =\n",
              "          document.querySelector('#df-d3e16e23-ec28-4440-95e0-3678cb9a96e0 button.colab-df-convert');\n",
              "        buttonEl.style.display =\n",
              "          google.colab.kernel.accessAllowed ? 'block' : 'none';\n",
              "\n",
              "        async function convertToInteractive(key) {\n",
              "          const element = document.querySelector('#df-d3e16e23-ec28-4440-95e0-3678cb9a96e0');\n",
              "          const dataTable =\n",
              "            await google.colab.kernel.invokeFunction('convertToInteractive',\n",
              "                                                     [key], {});\n",
              "          if (!dataTable) return;\n",
              "\n",
              "          const docLinkHtml = 'Like what you see? Visit the ' +\n",
              "            '<a target=\"_blank\" href=https://colab.research.google.com/notebooks/data_table.ipynb>data table notebook</a>'\n",
              "            + ' to learn more about interactive tables.';\n",
              "          element.innerHTML = '';\n",
              "          dataTable['output_type'] = 'display_data';\n",
              "          await google.colab.output.renderOutput(dataTable, element);\n",
              "          const docLink = document.createElement('div');\n",
              "          docLink.innerHTML = docLinkHtml;\n",
              "          element.appendChild(docLink);\n",
              "        }\n",
              "      </script>\n",
              "    </div>\n",
              "  </div>\n",
              "  "
            ]
          },
          "metadata": {},
          "execution_count": 32
        }
      ]
    },
    {
      "cell_type": "code",
      "source": [
        "champion_summary(lol[lol['Role'] == 'middle']).sort_values('appearance', ascending = False)"
      ],
      "metadata": {
        "colab": {
          "base_uri": "https://localhost:8080/",
          "height": 455
        },
        "id": "bvPE6lLVrTUa",
        "outputId": "93db376b-a674-4da0-c6d0-f1558f27c10d"
      },
      "execution_count": null,
      "outputs": [
        {
          "output_type": "execute_result",
          "data": {
            "text/plain": [
              "          appearance        wr      avg_gold  avg_kills  avg_assists  \\\n",
              "CHAMPION                                                               \n",
              "Sylas          15057  0.504217  10201.145314   6.627549     6.397822   \n",
              "Zed            12341  0.496475  11398.313508   8.072036     5.022283   \n",
              "Katarina       11451  0.516461  11191.808663   8.888045     5.770064   \n",
              "Yasuo          11419  0.498292  11593.894124   6.366319     5.445836   \n",
              "Yone           10560  0.487121  11343.311458   6.273011     5.398958   \n",
              "...              ...       ...           ...        ...          ...   \n",
              "Hecarim            7  0.428571  10939.285714   6.000000     6.857143   \n",
              "Nami               5  0.400000   6540.400000   2.000000     8.400000   \n",
              "Amumu              3  0.333333  12869.000000   9.333333     7.333333   \n",
              "Braum              2  0.000000   7550.000000   2.000000     5.000000   \n",
              "Rengar             2  1.000000  13304.000000  10.000000     4.500000   \n",
              "\n",
              "          avg_death    avg_viz       avg_dam  \n",
              "CHAMPION                                      \n",
              "Sylas      5.919506  18.007040  17520.533971  \n",
              "Zed        5.737947  19.002269  20164.978203  \n",
              "Katarina   6.049777  15.993625  19403.354030  \n",
              "Yasuo      6.347053  17.569314  16746.116035  \n",
              "Yone       5.889205  17.535322  18242.245644  \n",
              "...             ...        ...           ...  \n",
              "Hecarim    7.285714  17.571429  16490.428571  \n",
              "Nami       4.800000  12.200000   6346.800000  \n",
              "Amumu      7.333333  18.333333  23963.000000  \n",
              "Braum      6.500000  16.500000   7583.500000  \n",
              "Rengar     3.000000  25.500000  19813.500000  \n",
              "\n",
              "[155 rows x 8 columns]"
            ],
            "text/html": [
              "\n",
              "  <div id=\"df-8a7b8c47-05f3-4215-831b-950bb1e259d8\">\n",
              "    <div class=\"colab-df-container\">\n",
              "      <div>\n",
              "<style scoped>\n",
              "    .dataframe tbody tr th:only-of-type {\n",
              "        vertical-align: middle;\n",
              "    }\n",
              "\n",
              "    .dataframe tbody tr th {\n",
              "        vertical-align: top;\n",
              "    }\n",
              "\n",
              "    .dataframe thead th {\n",
              "        text-align: right;\n",
              "    }\n",
              "</style>\n",
              "<table border=\"1\" class=\"dataframe\">\n",
              "  <thead>\n",
              "    <tr style=\"text-align: right;\">\n",
              "      <th></th>\n",
              "      <th>appearance</th>\n",
              "      <th>wr</th>\n",
              "      <th>avg_gold</th>\n",
              "      <th>avg_kills</th>\n",
              "      <th>avg_assists</th>\n",
              "      <th>avg_death</th>\n",
              "      <th>avg_viz</th>\n",
              "      <th>avg_dam</th>\n",
              "    </tr>\n",
              "    <tr>\n",
              "      <th>CHAMPION</th>\n",
              "      <th></th>\n",
              "      <th></th>\n",
              "      <th></th>\n",
              "      <th></th>\n",
              "      <th></th>\n",
              "      <th></th>\n",
              "      <th></th>\n",
              "      <th></th>\n",
              "    </tr>\n",
              "  </thead>\n",
              "  <tbody>\n",
              "    <tr>\n",
              "      <th>Sylas</th>\n",
              "      <td>15057</td>\n",
              "      <td>0.504217</td>\n",
              "      <td>10201.145314</td>\n",
              "      <td>6.627549</td>\n",
              "      <td>6.397822</td>\n",
              "      <td>5.919506</td>\n",
              "      <td>18.007040</td>\n",
              "      <td>17520.533971</td>\n",
              "    </tr>\n",
              "    <tr>\n",
              "      <th>Zed</th>\n",
              "      <td>12341</td>\n",
              "      <td>0.496475</td>\n",
              "      <td>11398.313508</td>\n",
              "      <td>8.072036</td>\n",
              "      <td>5.022283</td>\n",
              "      <td>5.737947</td>\n",
              "      <td>19.002269</td>\n",
              "      <td>20164.978203</td>\n",
              "    </tr>\n",
              "    <tr>\n",
              "      <th>Katarina</th>\n",
              "      <td>11451</td>\n",
              "      <td>0.516461</td>\n",
              "      <td>11191.808663</td>\n",
              "      <td>8.888045</td>\n",
              "      <td>5.770064</td>\n",
              "      <td>6.049777</td>\n",
              "      <td>15.993625</td>\n",
              "      <td>19403.354030</td>\n",
              "    </tr>\n",
              "    <tr>\n",
              "      <th>Yasuo</th>\n",
              "      <td>11419</td>\n",
              "      <td>0.498292</td>\n",
              "      <td>11593.894124</td>\n",
              "      <td>6.366319</td>\n",
              "      <td>5.445836</td>\n",
              "      <td>6.347053</td>\n",
              "      <td>17.569314</td>\n",
              "      <td>16746.116035</td>\n",
              "    </tr>\n",
              "    <tr>\n",
              "      <th>Yone</th>\n",
              "      <td>10560</td>\n",
              "      <td>0.487121</td>\n",
              "      <td>11343.311458</td>\n",
              "      <td>6.273011</td>\n",
              "      <td>5.398958</td>\n",
              "      <td>5.889205</td>\n",
              "      <td>17.535322</td>\n",
              "      <td>18242.245644</td>\n",
              "    </tr>\n",
              "    <tr>\n",
              "      <th>...</th>\n",
              "      <td>...</td>\n",
              "      <td>...</td>\n",
              "      <td>...</td>\n",
              "      <td>...</td>\n",
              "      <td>...</td>\n",
              "      <td>...</td>\n",
              "      <td>...</td>\n",
              "      <td>...</td>\n",
              "    </tr>\n",
              "    <tr>\n",
              "      <th>Hecarim</th>\n",
              "      <td>7</td>\n",
              "      <td>0.428571</td>\n",
              "      <td>10939.285714</td>\n",
              "      <td>6.000000</td>\n",
              "      <td>6.857143</td>\n",
              "      <td>7.285714</td>\n",
              "      <td>17.571429</td>\n",
              "      <td>16490.428571</td>\n",
              "    </tr>\n",
              "    <tr>\n",
              "      <th>Nami</th>\n",
              "      <td>5</td>\n",
              "      <td>0.400000</td>\n",
              "      <td>6540.400000</td>\n",
              "      <td>2.000000</td>\n",
              "      <td>8.400000</td>\n",
              "      <td>4.800000</td>\n",
              "      <td>12.200000</td>\n",
              "      <td>6346.800000</td>\n",
              "    </tr>\n",
              "    <tr>\n",
              "      <th>Amumu</th>\n",
              "      <td>3</td>\n",
              "      <td>0.333333</td>\n",
              "      <td>12869.000000</td>\n",
              "      <td>9.333333</td>\n",
              "      <td>7.333333</td>\n",
              "      <td>7.333333</td>\n",
              "      <td>18.333333</td>\n",
              "      <td>23963.000000</td>\n",
              "    </tr>\n",
              "    <tr>\n",
              "      <th>Braum</th>\n",
              "      <td>2</td>\n",
              "      <td>0.000000</td>\n",
              "      <td>7550.000000</td>\n",
              "      <td>2.000000</td>\n",
              "      <td>5.000000</td>\n",
              "      <td>6.500000</td>\n",
              "      <td>16.500000</td>\n",
              "      <td>7583.500000</td>\n",
              "    </tr>\n",
              "    <tr>\n",
              "      <th>Rengar</th>\n",
              "      <td>2</td>\n",
              "      <td>1.000000</td>\n",
              "      <td>13304.000000</td>\n",
              "      <td>10.000000</td>\n",
              "      <td>4.500000</td>\n",
              "      <td>3.000000</td>\n",
              "      <td>25.500000</td>\n",
              "      <td>19813.500000</td>\n",
              "    </tr>\n",
              "  </tbody>\n",
              "</table>\n",
              "<p>155 rows × 8 columns</p>\n",
              "</div>\n",
              "      <button class=\"colab-df-convert\" onclick=\"convertToInteractive('df-8a7b8c47-05f3-4215-831b-950bb1e259d8')\"\n",
              "              title=\"Convert this dataframe to an interactive table.\"\n",
              "              style=\"display:none;\">\n",
              "        \n",
              "  <svg xmlns=\"http://www.w3.org/2000/svg\" height=\"24px\"viewBox=\"0 0 24 24\"\n",
              "       width=\"24px\">\n",
              "    <path d=\"M0 0h24v24H0V0z\" fill=\"none\"/>\n",
              "    <path d=\"M18.56 5.44l.94 2.06.94-2.06 2.06-.94-2.06-.94-.94-2.06-.94 2.06-2.06.94zm-11 1L8.5 8.5l.94-2.06 2.06-.94-2.06-.94L8.5 2.5l-.94 2.06-2.06.94zm10 10l.94 2.06.94-2.06 2.06-.94-2.06-.94-.94-2.06-.94 2.06-2.06.94z\"/><path d=\"M17.41 7.96l-1.37-1.37c-.4-.4-.92-.59-1.43-.59-.52 0-1.04.2-1.43.59L10.3 9.45l-7.72 7.72c-.78.78-.78 2.05 0 2.83L4 21.41c.39.39.9.59 1.41.59.51 0 1.02-.2 1.41-.59l7.78-7.78 2.81-2.81c.8-.78.8-2.07 0-2.86zM5.41 20L4 18.59l7.72-7.72 1.47 1.35L5.41 20z\"/>\n",
              "  </svg>\n",
              "      </button>\n",
              "      \n",
              "  <style>\n",
              "    .colab-df-container {\n",
              "      display:flex;\n",
              "      flex-wrap:wrap;\n",
              "      gap: 12px;\n",
              "    }\n",
              "\n",
              "    .colab-df-convert {\n",
              "      background-color: #E8F0FE;\n",
              "      border: none;\n",
              "      border-radius: 50%;\n",
              "      cursor: pointer;\n",
              "      display: none;\n",
              "      fill: #1967D2;\n",
              "      height: 32px;\n",
              "      padding: 0 0 0 0;\n",
              "      width: 32px;\n",
              "    }\n",
              "\n",
              "    .colab-df-convert:hover {\n",
              "      background-color: #E2EBFA;\n",
              "      box-shadow: 0px 1px 2px rgba(60, 64, 67, 0.3), 0px 1px 3px 1px rgba(60, 64, 67, 0.15);\n",
              "      fill: #174EA6;\n",
              "    }\n",
              "\n",
              "    [theme=dark] .colab-df-convert {\n",
              "      background-color: #3B4455;\n",
              "      fill: #D2E3FC;\n",
              "    }\n",
              "\n",
              "    [theme=dark] .colab-df-convert:hover {\n",
              "      background-color: #434B5C;\n",
              "      box-shadow: 0px 1px 3px 1px rgba(0, 0, 0, 0.15);\n",
              "      filter: drop-shadow(0px 1px 2px rgba(0, 0, 0, 0.3));\n",
              "      fill: #FFFFFF;\n",
              "    }\n",
              "  </style>\n",
              "\n",
              "      <script>\n",
              "        const buttonEl =\n",
              "          document.querySelector('#df-8a7b8c47-05f3-4215-831b-950bb1e259d8 button.colab-df-convert');\n",
              "        buttonEl.style.display =\n",
              "          google.colab.kernel.accessAllowed ? 'block' : 'none';\n",
              "\n",
              "        async function convertToInteractive(key) {\n",
              "          const element = document.querySelector('#df-8a7b8c47-05f3-4215-831b-950bb1e259d8');\n",
              "          const dataTable =\n",
              "            await google.colab.kernel.invokeFunction('convertToInteractive',\n",
              "                                                     [key], {});\n",
              "          if (!dataTable) return;\n",
              "\n",
              "          const docLinkHtml = 'Like what you see? Visit the ' +\n",
              "            '<a target=\"_blank\" href=https://colab.research.google.com/notebooks/data_table.ipynb>data table notebook</a>'\n",
              "            + ' to learn more about interactive tables.';\n",
              "          element.innerHTML = '';\n",
              "          dataTable['output_type'] = 'display_data';\n",
              "          await google.colab.output.renderOutput(dataTable, element);\n",
              "          const docLink = document.createElement('div');\n",
              "          docLink.innerHTML = docLinkHtml;\n",
              "          element.appendChild(docLink);\n",
              "        }\n",
              "      </script>\n",
              "    </div>\n",
              "  </div>\n",
              "  "
            ]
          },
          "metadata": {},
          "execution_count": 33
        }
      ]
    },
    {
      "cell_type": "code",
      "source": [
        "champion_summary(lol[lol['Role'] == 'bottom']).sort_values('appearance', ascending = False)"
      ],
      "metadata": {
        "colab": {
          "base_uri": "https://localhost:8080/",
          "height": 455
        },
        "id": "OqI0XVE0rTj_",
        "outputId": "466c807e-736e-4f84-a652-b302f194420e"
      },
      "execution_count": null,
      "outputs": [
        {
          "output_type": "execute_result",
          "data": {
            "text/plain": [
              "          appearance        wr      avg_gold  avg_kills  avg_assists  \\\n",
              "CHAMPION                                                               \n",
              "Ezreal         35172  0.495735  10942.124673   5.913425     6.749289   \n",
              "Kaisa          28125  0.489387  11652.656782   7.172942     5.991964   \n",
              "Vayne          16061  0.514663  11371.095573   6.965382     5.511550   \n",
              "Tristana       15674  0.512505  11622.516205   6.953362     5.927396   \n",
              "Jhin           15432  0.499417  11283.720062   6.620270     7.715073   \n",
              "...              ...       ...           ...        ...          ...   \n",
              "Udyr               2  0.000000   9723.000000   7.500000     3.500000   \n",
              "Rell               1  1.000000   8820.000000   1.000000    12.000000   \n",
              "Yorick             1  0.000000  12852.000000   4.000000     8.000000   \n",
              "Skarner            1  0.000000  10451.000000   8.000000    15.000000   \n",
              "Sejuani            1  0.000000   6504.000000   0.000000     4.000000   \n",
              "\n",
              "          avg_death    avg_viz       avg_dam  \n",
              "CHAMPION                                      \n",
              "Ezreal     4.894860  18.210565  20629.476174  \n",
              "Kaisa      5.195164  19.844871  16944.889173  \n",
              "Vayne      5.681776  19.809974  16959.729158  \n",
              "Tristana   5.131364  21.260559  16882.468674  \n",
              "Jhin       4.955871  18.729069  16596.208917  \n",
              "...             ...        ...           ...  \n",
              "Udyr      11.000000  12.000000  13890.000000  \n",
              "Rell      13.000000  12.000000  10485.000000  \n",
              "Yorick     8.000000  16.000000  20245.000000  \n",
              "Skarner    6.000000  21.000000  21838.000000  \n",
              "Sejuani    5.000000  13.000000   7187.000000  \n",
              "\n",
              "[155 rows x 8 columns]"
            ],
            "text/html": [
              "\n",
              "  <div id=\"df-18bbde3d-1536-4f6e-b9ed-4e8733bbb568\">\n",
              "    <div class=\"colab-df-container\">\n",
              "      <div>\n",
              "<style scoped>\n",
              "    .dataframe tbody tr th:only-of-type {\n",
              "        vertical-align: middle;\n",
              "    }\n",
              "\n",
              "    .dataframe tbody tr th {\n",
              "        vertical-align: top;\n",
              "    }\n",
              "\n",
              "    .dataframe thead th {\n",
              "        text-align: right;\n",
              "    }\n",
              "</style>\n",
              "<table border=\"1\" class=\"dataframe\">\n",
              "  <thead>\n",
              "    <tr style=\"text-align: right;\">\n",
              "      <th></th>\n",
              "      <th>appearance</th>\n",
              "      <th>wr</th>\n",
              "      <th>avg_gold</th>\n",
              "      <th>avg_kills</th>\n",
              "      <th>avg_assists</th>\n",
              "      <th>avg_death</th>\n",
              "      <th>avg_viz</th>\n",
              "      <th>avg_dam</th>\n",
              "    </tr>\n",
              "    <tr>\n",
              "      <th>CHAMPION</th>\n",
              "      <th></th>\n",
              "      <th></th>\n",
              "      <th></th>\n",
              "      <th></th>\n",
              "      <th></th>\n",
              "      <th></th>\n",
              "      <th></th>\n",
              "      <th></th>\n",
              "    </tr>\n",
              "  </thead>\n",
              "  <tbody>\n",
              "    <tr>\n",
              "      <th>Ezreal</th>\n",
              "      <td>35172</td>\n",
              "      <td>0.495735</td>\n",
              "      <td>10942.124673</td>\n",
              "      <td>5.913425</td>\n",
              "      <td>6.749289</td>\n",
              "      <td>4.894860</td>\n",
              "      <td>18.210565</td>\n",
              "      <td>20629.476174</td>\n",
              "    </tr>\n",
              "    <tr>\n",
              "      <th>Kaisa</th>\n",
              "      <td>28125</td>\n",
              "      <td>0.489387</td>\n",
              "      <td>11652.656782</td>\n",
              "      <td>7.172942</td>\n",
              "      <td>5.991964</td>\n",
              "      <td>5.195164</td>\n",
              "      <td>19.844871</td>\n",
              "      <td>16944.889173</td>\n",
              "    </tr>\n",
              "    <tr>\n",
              "      <th>Vayne</th>\n",
              "      <td>16061</td>\n",
              "      <td>0.514663</td>\n",
              "      <td>11371.095573</td>\n",
              "      <td>6.965382</td>\n",
              "      <td>5.511550</td>\n",
              "      <td>5.681776</td>\n",
              "      <td>19.809974</td>\n",
              "      <td>16959.729158</td>\n",
              "    </tr>\n",
              "    <tr>\n",
              "      <th>Tristana</th>\n",
              "      <td>15674</td>\n",
              "      <td>0.512505</td>\n",
              "      <td>11622.516205</td>\n",
              "      <td>6.953362</td>\n",
              "      <td>5.927396</td>\n",
              "      <td>5.131364</td>\n",
              "      <td>21.260559</td>\n",
              "      <td>16882.468674</td>\n",
              "    </tr>\n",
              "    <tr>\n",
              "      <th>Jhin</th>\n",
              "      <td>15432</td>\n",
              "      <td>0.499417</td>\n",
              "      <td>11283.720062</td>\n",
              "      <td>6.620270</td>\n",
              "      <td>7.715073</td>\n",
              "      <td>4.955871</td>\n",
              "      <td>18.729069</td>\n",
              "      <td>16596.208917</td>\n",
              "    </tr>\n",
              "    <tr>\n",
              "      <th>...</th>\n",
              "      <td>...</td>\n",
              "      <td>...</td>\n",
              "      <td>...</td>\n",
              "      <td>...</td>\n",
              "      <td>...</td>\n",
              "      <td>...</td>\n",
              "      <td>...</td>\n",
              "      <td>...</td>\n",
              "    </tr>\n",
              "    <tr>\n",
              "      <th>Udyr</th>\n",
              "      <td>2</td>\n",
              "      <td>0.000000</td>\n",
              "      <td>9723.000000</td>\n",
              "      <td>7.500000</td>\n",
              "      <td>3.500000</td>\n",
              "      <td>11.000000</td>\n",
              "      <td>12.000000</td>\n",
              "      <td>13890.000000</td>\n",
              "    </tr>\n",
              "    <tr>\n",
              "      <th>Rell</th>\n",
              "      <td>1</td>\n",
              "      <td>1.000000</td>\n",
              "      <td>8820.000000</td>\n",
              "      <td>1.000000</td>\n",
              "      <td>12.000000</td>\n",
              "      <td>13.000000</td>\n",
              "      <td>12.000000</td>\n",
              "      <td>10485.000000</td>\n",
              "    </tr>\n",
              "    <tr>\n",
              "      <th>Yorick</th>\n",
              "      <td>1</td>\n",
              "      <td>0.000000</td>\n",
              "      <td>12852.000000</td>\n",
              "      <td>4.000000</td>\n",
              "      <td>8.000000</td>\n",
              "      <td>8.000000</td>\n",
              "      <td>16.000000</td>\n",
              "      <td>20245.000000</td>\n",
              "    </tr>\n",
              "    <tr>\n",
              "      <th>Skarner</th>\n",
              "      <td>1</td>\n",
              "      <td>0.000000</td>\n",
              "      <td>10451.000000</td>\n",
              "      <td>8.000000</td>\n",
              "      <td>15.000000</td>\n",
              "      <td>6.000000</td>\n",
              "      <td>21.000000</td>\n",
              "      <td>21838.000000</td>\n",
              "    </tr>\n",
              "    <tr>\n",
              "      <th>Sejuani</th>\n",
              "      <td>1</td>\n",
              "      <td>0.000000</td>\n",
              "      <td>6504.000000</td>\n",
              "      <td>0.000000</td>\n",
              "      <td>4.000000</td>\n",
              "      <td>5.000000</td>\n",
              "      <td>13.000000</td>\n",
              "      <td>7187.000000</td>\n",
              "    </tr>\n",
              "  </tbody>\n",
              "</table>\n",
              "<p>155 rows × 8 columns</p>\n",
              "</div>\n",
              "      <button class=\"colab-df-convert\" onclick=\"convertToInteractive('df-18bbde3d-1536-4f6e-b9ed-4e8733bbb568')\"\n",
              "              title=\"Convert this dataframe to an interactive table.\"\n",
              "              style=\"display:none;\">\n",
              "        \n",
              "  <svg xmlns=\"http://www.w3.org/2000/svg\" height=\"24px\"viewBox=\"0 0 24 24\"\n",
              "       width=\"24px\">\n",
              "    <path d=\"M0 0h24v24H0V0z\" fill=\"none\"/>\n",
              "    <path d=\"M18.56 5.44l.94 2.06.94-2.06 2.06-.94-2.06-.94-.94-2.06-.94 2.06-2.06.94zm-11 1L8.5 8.5l.94-2.06 2.06-.94-2.06-.94L8.5 2.5l-.94 2.06-2.06.94zm10 10l.94 2.06.94-2.06 2.06-.94-2.06-.94-.94-2.06-.94 2.06-2.06.94z\"/><path d=\"M17.41 7.96l-1.37-1.37c-.4-.4-.92-.59-1.43-.59-.52 0-1.04.2-1.43.59L10.3 9.45l-7.72 7.72c-.78.78-.78 2.05 0 2.83L4 21.41c.39.39.9.59 1.41.59.51 0 1.02-.2 1.41-.59l7.78-7.78 2.81-2.81c.8-.78.8-2.07 0-2.86zM5.41 20L4 18.59l7.72-7.72 1.47 1.35L5.41 20z\"/>\n",
              "  </svg>\n",
              "      </button>\n",
              "      \n",
              "  <style>\n",
              "    .colab-df-container {\n",
              "      display:flex;\n",
              "      flex-wrap:wrap;\n",
              "      gap: 12px;\n",
              "    }\n",
              "\n",
              "    .colab-df-convert {\n",
              "      background-color: #E8F0FE;\n",
              "      border: none;\n",
              "      border-radius: 50%;\n",
              "      cursor: pointer;\n",
              "      display: none;\n",
              "      fill: #1967D2;\n",
              "      height: 32px;\n",
              "      padding: 0 0 0 0;\n",
              "      width: 32px;\n",
              "    }\n",
              "\n",
              "    .colab-df-convert:hover {\n",
              "      background-color: #E2EBFA;\n",
              "      box-shadow: 0px 1px 2px rgba(60, 64, 67, 0.3), 0px 1px 3px 1px rgba(60, 64, 67, 0.15);\n",
              "      fill: #174EA6;\n",
              "    }\n",
              "\n",
              "    [theme=dark] .colab-df-convert {\n",
              "      background-color: #3B4455;\n",
              "      fill: #D2E3FC;\n",
              "    }\n",
              "\n",
              "    [theme=dark] .colab-df-convert:hover {\n",
              "      background-color: #434B5C;\n",
              "      box-shadow: 0px 1px 3px 1px rgba(0, 0, 0, 0.15);\n",
              "      filter: drop-shadow(0px 1px 2px rgba(0, 0, 0, 0.3));\n",
              "      fill: #FFFFFF;\n",
              "    }\n",
              "  </style>\n",
              "\n",
              "      <script>\n",
              "        const buttonEl =\n",
              "          document.querySelector('#df-18bbde3d-1536-4f6e-b9ed-4e8733bbb568 button.colab-df-convert');\n",
              "        buttonEl.style.display =\n",
              "          google.colab.kernel.accessAllowed ? 'block' : 'none';\n",
              "\n",
              "        async function convertToInteractive(key) {\n",
              "          const element = document.querySelector('#df-18bbde3d-1536-4f6e-b9ed-4e8733bbb568');\n",
              "          const dataTable =\n",
              "            await google.colab.kernel.invokeFunction('convertToInteractive',\n",
              "                                                     [key], {});\n",
              "          if (!dataTable) return;\n",
              "\n",
              "          const docLinkHtml = 'Like what you see? Visit the ' +\n",
              "            '<a target=\"_blank\" href=https://colab.research.google.com/notebooks/data_table.ipynb>data table notebook</a>'\n",
              "            + ' to learn more about interactive tables.';\n",
              "          element.innerHTML = '';\n",
              "          dataTable['output_type'] = 'display_data';\n",
              "          await google.colab.output.renderOutput(dataTable, element);\n",
              "          const docLink = document.createElement('div');\n",
              "          docLink.innerHTML = docLinkHtml;\n",
              "          element.appendChild(docLink);\n",
              "        }\n",
              "      </script>\n",
              "    </div>\n",
              "  </div>\n",
              "  "
            ]
          },
          "metadata": {},
          "execution_count": 34
        }
      ]
    },
    {
      "cell_type": "code",
      "source": [
        "champion_summary(lol[lol['Role'] == 'utility']).sort_values('appearance', ascending = False)"
      ],
      "metadata": {
        "colab": {
          "base_uri": "https://localhost:8080/",
          "height": 455
        },
        "id": "BNQ8-YImrTzb",
        "outputId": "d1e1e316-b928-4614-eb12-cd12a9b69215"
      },
      "execution_count": null,
      "outputs": [
        {
          "output_type": "execute_result",
          "data": {
            "text/plain": [
              "            appearance        wr      avg_gold  avg_kills  avg_assists  \\\n",
              "CHAMPION                                                                 \n",
              "Thresh           26293  0.510858   7200.656182   1.616894    13.484007   \n",
              "Lulu             20273  0.508164   7219.902432   1.407636    13.518719   \n",
              "Karma            17377  0.487944   7546.245037   1.964839    12.669275   \n",
              "Yuumi            16535  0.498276   7275.630844   1.685999    15.157968   \n",
              "Leona            14769  0.504503   7107.015235   1.677839    12.233191   \n",
              "...                ...       ...           ...        ...          ...   \n",
              "Yorick               1  0.000000   8747.000000   3.000000     7.000000   \n",
              "Vi                   1  1.000000  16263.000000  11.000000    18.000000   \n",
              "Tryndamere           1  0.000000   3741.000000   3.000000     3.000000   \n",
              "Kayn                 1  0.000000    794.000000   0.000000     0.000000   \n",
              "Shyvana              1  0.000000   5493.000000   1.000000     2.000000   \n",
              "\n",
              "            avg_death    avg_viz       avg_dam  \n",
              "CHAMPION                                        \n",
              "Thresh       5.425665  52.234169   5867.626212  \n",
              "Lulu         4.644749  50.738075   4768.982390  \n",
              "Karma        5.193704  55.454969   9237.195603  \n",
              "Yuumi        3.925491  38.945268   7862.529725  \n",
              "Leona        5.692667  52.728011   5848.897827  \n",
              "...               ...        ...           ...  \n",
              "Yorick      12.000000  24.000000  12075.000000  \n",
              "Vi           8.000000  52.000000  33155.000000  \n",
              "Tryndamere   3.000000  13.000000   2851.000000  \n",
              "Kayn         0.000000   1.000000    184.000000  \n",
              "Shyvana      4.000000  34.000000   5457.000000  \n",
              "\n",
              "[154 rows x 8 columns]"
            ],
            "text/html": [
              "\n",
              "  <div id=\"df-c2d8becd-666c-4d32-b0c0-dbc16740d435\">\n",
              "    <div class=\"colab-df-container\">\n",
              "      <div>\n",
              "<style scoped>\n",
              "    .dataframe tbody tr th:only-of-type {\n",
              "        vertical-align: middle;\n",
              "    }\n",
              "\n",
              "    .dataframe tbody tr th {\n",
              "        vertical-align: top;\n",
              "    }\n",
              "\n",
              "    .dataframe thead th {\n",
              "        text-align: right;\n",
              "    }\n",
              "</style>\n",
              "<table border=\"1\" class=\"dataframe\">\n",
              "  <thead>\n",
              "    <tr style=\"text-align: right;\">\n",
              "      <th></th>\n",
              "      <th>appearance</th>\n",
              "      <th>wr</th>\n",
              "      <th>avg_gold</th>\n",
              "      <th>avg_kills</th>\n",
              "      <th>avg_assists</th>\n",
              "      <th>avg_death</th>\n",
              "      <th>avg_viz</th>\n",
              "      <th>avg_dam</th>\n",
              "    </tr>\n",
              "    <tr>\n",
              "      <th>CHAMPION</th>\n",
              "      <th></th>\n",
              "      <th></th>\n",
              "      <th></th>\n",
              "      <th></th>\n",
              "      <th></th>\n",
              "      <th></th>\n",
              "      <th></th>\n",
              "      <th></th>\n",
              "    </tr>\n",
              "  </thead>\n",
              "  <tbody>\n",
              "    <tr>\n",
              "      <th>Thresh</th>\n",
              "      <td>26293</td>\n",
              "      <td>0.510858</td>\n",
              "      <td>7200.656182</td>\n",
              "      <td>1.616894</td>\n",
              "      <td>13.484007</td>\n",
              "      <td>5.425665</td>\n",
              "      <td>52.234169</td>\n",
              "      <td>5867.626212</td>\n",
              "    </tr>\n",
              "    <tr>\n",
              "      <th>Lulu</th>\n",
              "      <td>20273</td>\n",
              "      <td>0.508164</td>\n",
              "      <td>7219.902432</td>\n",
              "      <td>1.407636</td>\n",
              "      <td>13.518719</td>\n",
              "      <td>4.644749</td>\n",
              "      <td>50.738075</td>\n",
              "      <td>4768.982390</td>\n",
              "    </tr>\n",
              "    <tr>\n",
              "      <th>Karma</th>\n",
              "      <td>17377</td>\n",
              "      <td>0.487944</td>\n",
              "      <td>7546.245037</td>\n",
              "      <td>1.964839</td>\n",
              "      <td>12.669275</td>\n",
              "      <td>5.193704</td>\n",
              "      <td>55.454969</td>\n",
              "      <td>9237.195603</td>\n",
              "    </tr>\n",
              "    <tr>\n",
              "      <th>Yuumi</th>\n",
              "      <td>16535</td>\n",
              "      <td>0.498276</td>\n",
              "      <td>7275.630844</td>\n",
              "      <td>1.685999</td>\n",
              "      <td>15.157968</td>\n",
              "      <td>3.925491</td>\n",
              "      <td>38.945268</td>\n",
              "      <td>7862.529725</td>\n",
              "    </tr>\n",
              "    <tr>\n",
              "      <th>Leona</th>\n",
              "      <td>14769</td>\n",
              "      <td>0.504503</td>\n",
              "      <td>7107.015235</td>\n",
              "      <td>1.677839</td>\n",
              "      <td>12.233191</td>\n",
              "      <td>5.692667</td>\n",
              "      <td>52.728011</td>\n",
              "      <td>5848.897827</td>\n",
              "    </tr>\n",
              "    <tr>\n",
              "      <th>...</th>\n",
              "      <td>...</td>\n",
              "      <td>...</td>\n",
              "      <td>...</td>\n",
              "      <td>...</td>\n",
              "      <td>...</td>\n",
              "      <td>...</td>\n",
              "      <td>...</td>\n",
              "      <td>...</td>\n",
              "    </tr>\n",
              "    <tr>\n",
              "      <th>Yorick</th>\n",
              "      <td>1</td>\n",
              "      <td>0.000000</td>\n",
              "      <td>8747.000000</td>\n",
              "      <td>3.000000</td>\n",
              "      <td>7.000000</td>\n",
              "      <td>12.000000</td>\n",
              "      <td>24.000000</td>\n",
              "      <td>12075.000000</td>\n",
              "    </tr>\n",
              "    <tr>\n",
              "      <th>Vi</th>\n",
              "      <td>1</td>\n",
              "      <td>1.000000</td>\n",
              "      <td>16263.000000</td>\n",
              "      <td>11.000000</td>\n",
              "      <td>18.000000</td>\n",
              "      <td>8.000000</td>\n",
              "      <td>52.000000</td>\n",
              "      <td>33155.000000</td>\n",
              "    </tr>\n",
              "    <tr>\n",
              "      <th>Tryndamere</th>\n",
              "      <td>1</td>\n",
              "      <td>0.000000</td>\n",
              "      <td>3741.000000</td>\n",
              "      <td>3.000000</td>\n",
              "      <td>3.000000</td>\n",
              "      <td>3.000000</td>\n",
              "      <td>13.000000</td>\n",
              "      <td>2851.000000</td>\n",
              "    </tr>\n",
              "    <tr>\n",
              "      <th>Kayn</th>\n",
              "      <td>1</td>\n",
              "      <td>0.000000</td>\n",
              "      <td>794.000000</td>\n",
              "      <td>0.000000</td>\n",
              "      <td>0.000000</td>\n",
              "      <td>0.000000</td>\n",
              "      <td>1.000000</td>\n",
              "      <td>184.000000</td>\n",
              "    </tr>\n",
              "    <tr>\n",
              "      <th>Shyvana</th>\n",
              "      <td>1</td>\n",
              "      <td>0.000000</td>\n",
              "      <td>5493.000000</td>\n",
              "      <td>1.000000</td>\n",
              "      <td>2.000000</td>\n",
              "      <td>4.000000</td>\n",
              "      <td>34.000000</td>\n",
              "      <td>5457.000000</td>\n",
              "    </tr>\n",
              "  </tbody>\n",
              "</table>\n",
              "<p>154 rows × 8 columns</p>\n",
              "</div>\n",
              "      <button class=\"colab-df-convert\" onclick=\"convertToInteractive('df-c2d8becd-666c-4d32-b0c0-dbc16740d435')\"\n",
              "              title=\"Convert this dataframe to an interactive table.\"\n",
              "              style=\"display:none;\">\n",
              "        \n",
              "  <svg xmlns=\"http://www.w3.org/2000/svg\" height=\"24px\"viewBox=\"0 0 24 24\"\n",
              "       width=\"24px\">\n",
              "    <path d=\"M0 0h24v24H0V0z\" fill=\"none\"/>\n",
              "    <path d=\"M18.56 5.44l.94 2.06.94-2.06 2.06-.94-2.06-.94-.94-2.06-.94 2.06-2.06.94zm-11 1L8.5 8.5l.94-2.06 2.06-.94-2.06-.94L8.5 2.5l-.94 2.06-2.06.94zm10 10l.94 2.06.94-2.06 2.06-.94-2.06-.94-.94-2.06-.94 2.06-2.06.94z\"/><path d=\"M17.41 7.96l-1.37-1.37c-.4-.4-.92-.59-1.43-.59-.52 0-1.04.2-1.43.59L10.3 9.45l-7.72 7.72c-.78.78-.78 2.05 0 2.83L4 21.41c.39.39.9.59 1.41.59.51 0 1.02-.2 1.41-.59l7.78-7.78 2.81-2.81c.8-.78.8-2.07 0-2.86zM5.41 20L4 18.59l7.72-7.72 1.47 1.35L5.41 20z\"/>\n",
              "  </svg>\n",
              "      </button>\n",
              "      \n",
              "  <style>\n",
              "    .colab-df-container {\n",
              "      display:flex;\n",
              "      flex-wrap:wrap;\n",
              "      gap: 12px;\n",
              "    }\n",
              "\n",
              "    .colab-df-convert {\n",
              "      background-color: #E8F0FE;\n",
              "      border: none;\n",
              "      border-radius: 50%;\n",
              "      cursor: pointer;\n",
              "      display: none;\n",
              "      fill: #1967D2;\n",
              "      height: 32px;\n",
              "      padding: 0 0 0 0;\n",
              "      width: 32px;\n",
              "    }\n",
              "\n",
              "    .colab-df-convert:hover {\n",
              "      background-color: #E2EBFA;\n",
              "      box-shadow: 0px 1px 2px rgba(60, 64, 67, 0.3), 0px 1px 3px 1px rgba(60, 64, 67, 0.15);\n",
              "      fill: #174EA6;\n",
              "    }\n",
              "\n",
              "    [theme=dark] .colab-df-convert {\n",
              "      background-color: #3B4455;\n",
              "      fill: #D2E3FC;\n",
              "    }\n",
              "\n",
              "    [theme=dark] .colab-df-convert:hover {\n",
              "      background-color: #434B5C;\n",
              "      box-shadow: 0px 1px 3px 1px rgba(0, 0, 0, 0.15);\n",
              "      filter: drop-shadow(0px 1px 2px rgba(0, 0, 0, 0.3));\n",
              "      fill: #FFFFFF;\n",
              "    }\n",
              "  </style>\n",
              "\n",
              "      <script>\n",
              "        const buttonEl =\n",
              "          document.querySelector('#df-c2d8becd-666c-4d32-b0c0-dbc16740d435 button.colab-df-convert');\n",
              "        buttonEl.style.display =\n",
              "          google.colab.kernel.accessAllowed ? 'block' : 'none';\n",
              "\n",
              "        async function convertToInteractive(key) {\n",
              "          const element = document.querySelector('#df-c2d8becd-666c-4d32-b0c0-dbc16740d435');\n",
              "          const dataTable =\n",
              "            await google.colab.kernel.invokeFunction('convertToInteractive',\n",
              "                                                     [key], {});\n",
              "          if (!dataTable) return;\n",
              "\n",
              "          const docLinkHtml = 'Like what you see? Visit the ' +\n",
              "            '<a target=\"_blank\" href=https://colab.research.google.com/notebooks/data_table.ipynb>data table notebook</a>'\n",
              "            + ' to learn more about interactive tables.';\n",
              "          element.innerHTML = '';\n",
              "          dataTable['output_type'] = 'display_data';\n",
              "          await google.colab.output.renderOutput(dataTable, element);\n",
              "          const docLink = document.createElement('div');\n",
              "          docLink.innerHTML = docLinkHtml;\n",
              "          element.appendChild(docLink);\n",
              "        }\n",
              "      </script>\n",
              "    </div>\n",
              "  </div>\n",
              "  "
            ]
          },
          "metadata": {},
          "execution_count": 35
        }
      ]
    },
    {
      "cell_type": "markdown",
      "source": [
        "5. Predicting the result of the game based on different metrics (Golds, Kills, Deaths, Assists, etc.)"
      ],
      "metadata": {
        "id": "k-a7SjxtMwJJ"
      }
    },
    {
      "cell_type": "markdown",
      "source": [
        "First, we would like to import our machine learning tools and models. As this is a binary classification problems, we would like to use models such as:\n",
        "*   Logistic Regression\n",
        "*   K-Nearest Neighbors\n",
        "*   Gaussian Naive Bayes\n",
        "*   Decision Tree\n",
        "*   Random Forest\n",
        "*   Support Vector Machine (and Linear SVM)\n",
        "\n",
        "But in this notebook, because we have a large amount of variables, we would be less focused on KNN (as the time for testing would be too long) and Support Vector Machine (Since the time for creating model would be too long). \n"
      ],
      "metadata": {
        "id": "rGx63YOYM9nj"
      }
    },
    {
      "cell_type": "code",
      "source": [
        "#import model\n",
        "from sklearn.linear_model import LogisticRegression\n",
        "from sklearn.ensemble import RandomForestClassifier\n",
        "from sklearn.naive_bayes import GaussianNB\n",
        "#from sklearn.linear_model import Perceptron\n",
        "#from sklearn.linear_model import SGDClassifier\n",
        "from sklearn.tree import DecisionTreeClassifier"
      ],
      "metadata": {
        "id": "cPr6H7ZbOAIA"
      },
      "execution_count": null,
      "outputs": []
    },
    {
      "cell_type": "code",
      "source": [
        "#import train_test_split\n",
        "from sklearn.model_selection import train_test_split"
      ],
      "metadata": {
        "id": "KGnAcgtROJ8Q"
      },
      "execution_count": null,
      "outputs": []
    },
    {
      "cell_type": "code",
      "source": [
        "#import evaluation metric\n",
        "from sklearn.metrics import accuracy_score"
      ],
      "metadata": {
        "id": "ZEijuo0LORD-"
      },
      "execution_count": null,
      "outputs": []
    },
    {
      "cell_type": "markdown",
      "source": [
        "Before we train our data, we would want to tidy our data in order to make our data workable. At first, we want to make use of our categorical variables(champion, role, region) since because of the basis of the game, these variables would have great effect on our result (a support player may have less kills and more assists than a mid player for example). "
      ],
      "metadata": {
        "id": "__6dYTT7OV59"
      }
    },
    {
      "cell_type": "code",
      "source": [
        "#Create dummy variable\n",
        "Role = pd.get_dummies(lol['Role'], drop_first = True)"
      ],
      "metadata": {
        "id": "74SJz0sTOUxF"
      },
      "execution_count": null,
      "outputs": []
    },
    {
      "cell_type": "code",
      "source": [
        "Champ = pd.get_dummies(lol['CHAMPION'], drop_first = True)"
      ],
      "metadata": {
        "id": "EDuuOJ34PDtq"
      },
      "execution_count": null,
      "outputs": []
    },
    {
      "cell_type": "code",
      "source": [
        "Region = pd.get_dummies(lol['Region'],drop_first = True)"
      ],
      "metadata": {
        "id": "hN2vBkA_PFW7"
      },
      "execution_count": null,
      "outputs": []
    },
    {
      "cell_type": "code",
      "source": [
        "lol_0 = pd.concat([lol, Role, Champ, Region], axis = 1)"
      ],
      "metadata": {
        "id": "0xT_sUFaPMXO"
      },
      "execution_count": null,
      "outputs": []
    },
    {
      "cell_type": "markdown",
      "source": [
        "With these variables in hand, we would want our x dataset to not includes categorical variables or not useful variables (Game version, match, etc.) or our \"aim\" variable (Win)"
      ],
      "metadata": {
        "id": "CXhaTs3ePOAI"
      }
    },
    {
      "cell_type": "code",
      "source": [
        "x = lol_0.drop(['CHAMPION','GAMEVERSION','Role','Match','Region', 'WIN'],axis = 1)"
      ],
      "metadata": {
        "id": "6tzk8gxaPlGF"
      },
      "execution_count": null,
      "outputs": []
    },
    {
      "cell_type": "code",
      "source": [
        "y = lol_0['WIN']"
      ],
      "metadata": {
        "id": "MME_9PfIPnQi"
      },
      "execution_count": null,
      "outputs": []
    },
    {
      "cell_type": "markdown",
      "source": [
        "Then we will split our data into training data and test data."
      ],
      "metadata": {
        "id": "HN-V4jeKPqfM"
      }
    },
    {
      "cell_type": "code",
      "source": [
        "x_train, x_test, y_train, y_test = train_test_split(x, y, test_size = 0.3, random_state = 42)"
      ],
      "metadata": {
        "id": "q8b3B2N2Ptff"
      },
      "execution_count": null,
      "outputs": []
    },
    {
      "cell_type": "markdown",
      "source": [
        "The first model that we want to look into is logistic regression, as this model is very useful in classifying binary categorical variable."
      ],
      "metadata": {
        "id": "01Xbt1YEPzif"
      }
    },
    {
      "cell_type": "code",
      "source": [
        "#14s as O(nd) -> 1m as increase var\n",
        "logreg = LogisticRegression()\n",
        "logreg.fit(x_train, y_train)\n",
        "pred_logreg = logreg.predict(x_test)\n",
        "print(accuracy_score(y_test, pred_logreg))"
      ],
      "metadata": {
        "id": "cB-6mcVkQAUt"
      },
      "execution_count": null,
      "outputs": []
    },
    {
      "cell_type": "markdown",
      "source": [
        "We can see that despite the simplicity of this model (a linear model), it has a rather high accuracy score (about 81)."
      ],
      "metadata": {
        "id": "yiKrjyxmQDG-"
      }
    },
    {
      "cell_type": "markdown",
      "source": [
        ""
      ],
      "metadata": {
        "id": "Qai99o0fQOq8"
      }
    },
    {
      "cell_type": "code",
      "source": [
        "gaussian = GaussianNB()\n",
        "gaussian.fit(x_train, y_train)\n",
        "pred_gaussian = gaussian.predict(x_test)\n",
        "print(accuracy_score(y_test, pred_gaussian))"
      ],
      "metadata": {
        "id": "aMiRC267QSru"
      },
      "execution_count": null,
      "outputs": []
    },
    {
      "cell_type": "markdown",
      "source": [
        ""
      ],
      "metadata": {
        "id": "NgfOg8awQVAP"
      }
    },
    {
      "cell_type": "markdown",
      "source": [
        ""
      ],
      "metadata": {
        "id": "pL_B_5O2QVT3"
      }
    },
    {
      "cell_type": "code",
      "source": [
        "decision_tree = DecisionTreeClassifier()\n",
        "decision_tree.fit(x_train, y_train)\n",
        "pred_tree = decision_tree.predict(x_test)\n",
        "print(accuracy_score(y_test, pred_tree))"
      ],
      "metadata": {
        "id": "0I9m-TAIQWZv"
      },
      "execution_count": null,
      "outputs": []
    },
    {
      "cell_type": "markdown",
      "source": [
        ""
      ],
      "metadata": {
        "id": "8u08bo_tQYhB"
      }
    },
    {
      "cell_type": "markdown",
      "source": [
        ""
      ],
      "metadata": {
        "id": "NEx_OWNMQYpa"
      }
    },
    {
      "cell_type": "code",
      "source": [
        "random_forest = RandomForestClassifier(n_estimators=100)\n",
        "random_forest.fit(x_train, y_train)\n",
        "pred_forest = random_forest.predict(x_test)\n",
        "print(accuracy_score(y_test, pred_forest))"
      ],
      "metadata": {
        "id": "sYRKj5PTQY4N"
      },
      "execution_count": null,
      "outputs": []
    }
  ]
}